{
 "cells": [
  {
   "cell_type": "code",
   "execution_count": 3,
   "metadata": {},
   "outputs": [],
   "source": [
    "def iob2_to_list(file):\n",
    "    data = []\n",
    "    \n",
    "    words = []\n",
    "    for line in open(file):\n",
    "        line = line.strip()\n",
    "\n",
    "        if line == '':\n",
    "            x = \"\\n\".join(words)\n",
    "            if x == '':\n",
    "                continue\n",
    "            data.append(x)\n",
    "            words = []\n",
    "            continue\n",
    "        words.append(line)\n",
    "\n",
    "    return data"
   ]
  },
  {
   "cell_type": "code",
   "execution_count": 6,
   "metadata": {},
   "outputs": [],
   "source": [
    "import os\n",
    "\n",
    "languages = ['english', 'french', 'german']\n",
    "\n",
    "if not os.path.exists('data'):\n",
    "    os.mkdir('data')\n",
    "if not os.path.exists('data/TaggedSeparated'):\n",
    "    os.mkdir('data/TaggedSeparated')\n",
    "\n",
    "for language in languages:\n",
    "    if os.path.exists(f'data/TaggedSeparated/{language}'):\n",
    "        os.rmdir(f'data/TaggedSeparated/{language}')\n",
    "    os.mkdir(f'data/TaggedSeparated/{language}')\n",
    "    data = iob2_to_list(f'data/Tagged_Fixed/{language}_tagged.iob2')\n",
    "    for i, sentence in enumerate(data):\n",
    "        with open(f'data/TaggedSeparated/{language}/{i}.iob2', 'w') as f:\n",
    "            f.write(sentence)"
   ]
  }
 ],
 "metadata": {
  "kernelspec": {
   "display_name": "Python 3 (ipykernel)",
   "language": "python",
   "name": "python3"
  },
  "language_info": {
   "codemirror_mode": {
    "name": "ipython",
    "version": 3
   },
   "file_extension": ".py",
   "mimetype": "text/x-python",
   "name": "python",
   "nbconvert_exporter": "python",
   "pygments_lexer": "ipython3",
   "version": "3.11.9"
  }
 },
 "nbformat": 4,
 "nbformat_minor": 2
}
