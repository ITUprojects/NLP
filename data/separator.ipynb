{
 "cells": [
  {
   "cell_type": "code",
   "execution_count": 1,
   "metadata": {},
   "outputs": [
    {
     "data": {
      "text/plain": [
       "' def count_synopses_and_divisible_integers(file_content):\\n    synopses = file_content.split(\\'\\n\\n\\')\\n    \\n    # Count the number of synopses\\n    num_synopses = len(synopses)\\n    \\n    divisible_integers = []\\n    \\n    for i in range(1, num_synopses + 1):\\n        if num_synopses % i == 0:\\n            divisible_integers.append(i)\\n    \\n    return num_synopses, divisible_integers\\n\\nwith open(\\'../data/Tagged_Fixed/english_tagged.iob2\\', \\'r\\') as file:\\n    file_content = file.read()\\n\\n# Call the function\\nnum_synopses, divisible_integers = count_synopses_and_divisible_integers(file_content)\\n\\nprint(\"Number of synopses:\", num_synopses)\\nprint(\"List of divisible integers:\", divisible_integers)\\n '"
      ]
     },
     "execution_count": 1,
     "metadata": {},
     "output_type": "execute_result"
    }
   ],
   "source": [
    "\"\"\" def count_synopses_and_divisible_integers(file_content):\n",
    "    synopses = file_content.split('\\n\\n')\n",
    "    \n",
    "    # Count the number of synopses\n",
    "    num_synopses = len(synopses)\n",
    "    \n",
    "    divisible_integers = []\n",
    "    \n",
    "    for i in range(1, num_synopses + 1):\n",
    "        if num_synopses % i == 0:\n",
    "            divisible_integers.append(i)\n",
    "    \n",
    "    return num_synopses, divisible_integers\n",
    "\n",
    "with open('../data/Tagged_Fixed/english_tagged.iob2', 'r') as file:\n",
    "    file_content = file.read()\n",
    "\n",
    "# Call the function\n",
    "num_synopses, divisible_integers = count_synopses_and_divisible_integers(file_content)\n",
    "\n",
    "print(\"Number of synopses:\", num_synopses)\n",
    "print(\"List of divisible integers:\", divisible_integers)\n",
    " \"\"\""
   ]
  },
  {
   "cell_type": "code",
   "execution_count": 2,
   "metadata": {},
   "outputs": [
    {
     "data": {
      "text/plain": [
       "' import os\\n\\ndef distribute_synopses(iob2_path, receiving_folder, synopses_per_file):\\n    with open(iob2_path, \\'r\\') as file:\\n        file_content = file.read()\\n    \\n    synopses = file_content.split(\\'\\n\\n\\')\\n    total_synopses = len(synopses)\\n    \\n    os.makedirs(receiving_folder, exist_ok=True)\\n    \\n    num_files = (total_synopses + synopses_per_file - 1) // synopses_per_file\\n    \\n    for file_idx in range(num_files):\\n        start_idx = file_idx * synopses_per_file\\n        end_idx = min((file_idx + 1) * synopses_per_file, total_synopses)\\n        synopses_chunk = synopses[start_idx:end_idx]\\n        \\n        output_filename = os.path.join(receiving_folder, f\\'synopses_{file_idx + 1}.iob2\\')\\n        with open(output_filename, \\'w\\') as output_file:\\n            output_file.write(\\'\\n\\n\\'.join(synopses_chunk).strip())\\n\\n\\niob2_path = \"../data/Tagged_Fixed/german_tagged.iob2\"\\nreceiving_folder = \"../data/TaggedSeparated/German\"\\nnum_divisions = 7\\n\\ndistribute_synopses(iob2_path, receiving_folder, num_divisions)\\n '"
      ]
     },
     "execution_count": 2,
     "metadata": {},
     "output_type": "execute_result"
    }
   ],
   "source": [
    "\"\"\" import os\n",
    "\n",
    "def distribute_synopses(iob2_path, receiving_folder, synopses_per_file):\n",
    "    with open(iob2_path, 'r') as file:\n",
    "        file_content = file.read()\n",
    "    \n",
    "    synopses = file_content.split('\\n\\n')\n",
    "    total_synopses = len(synopses)\n",
    "    \n",
    "    os.makedirs(receiving_folder, exist_ok=True)\n",
    "    \n",
    "    num_files = (total_synopses + synopses_per_file - 1) // synopses_per_file\n",
    "    \n",
    "    for file_idx in range(num_files):\n",
    "        start_idx = file_idx * synopses_per_file\n",
    "        end_idx = min((file_idx + 1) * synopses_per_file, total_synopses)\n",
    "        synopses_chunk = synopses[start_idx:end_idx]\n",
    "        \n",
    "        output_filename = os.path.join(receiving_folder, f'synopses_{file_idx + 1}.iob2')\n",
    "        with open(output_filename, 'w') as output_file:\n",
    "            output_file.write('\\n\\n'.join(synopses_chunk).strip())\n",
    "\n",
    "\n",
    "iob2_path = \"../data/Tagged_Fixed/german_tagged.iob2\"\n",
    "receiving_folder = \"../data/TaggedSeparated/German\"\n",
    "num_divisions = 7\n",
    "\n",
    "distribute_synopses(iob2_path, receiving_folder, num_divisions)\n",
    " \"\"\""
   ]
  },
  {
   "cell_type": "code",
   "execution_count": 3,
   "metadata": {},
   "outputs": [],
   "source": [
    "# divide the synopses into files with progressively more synopses\n",
    "# first file with n synopses, second file with n*2 synopses, etc.\n",
    "import os\n",
    "def distribute_synopses_progressive(iob2_path, receiving_folder, synopses_per_file):\n",
    "    with open(iob2_path, 'r') as file:\n",
    "        file_content = file.read()\n",
    "    \n",
    "    synopses = file_content.split('\\n\\n')\n",
    "    total_synopses = len(synopses)\n",
    "    \n",
    "    os.makedirs(receiving_folder, exist_ok=True)\n",
    "    \n",
    "    num_files = (total_synopses + synopses_per_file - 1) // synopses_per_file\n",
    "    \n",
    "    for file_idx in range(num_files):\n",
    "        end_idx = (file_idx + 1) * synopses_per_file\n",
    "        synopses_chunk = synopses[:end_idx]\n",
    "        \n",
    "        file_number = str(file_idx + 1).zfill(2)\n",
    "        output_filename = os.path.join(receiving_folder, f'synopses_{file_number}.iob2')\n",
    "        with open(output_filename, 'w') as output_file:\n",
    "            output_file.write('\\n\\n'.join(synopses_chunk).strip())\n",
    "\n",
    "current_directory = os.getcwd()\n",
    "source_folder = os.path.join(current_directory, \"Tagged_Fixed\")\n",
    "target_folder = os.path.join(current_directory, \"TaggedSeparated\")\n",
    "\n",
    "iob2_path_French = os.path.join(source_folder, \"french_tagged.iob2\")\n",
    "receiving_folder_French = os.path.join(target_folder, \"French\")\n",
    "iob2_path_German = os.path.join(source_folder, \"german_tagged.iob2\")\n",
    "receiving_folder_German = os.path.join(target_folder, \"German\")\n",
    "iob2_path_English = os.path.join(source_folder, \"english_tagged.iob2\")\n",
    "receiving_folder_English = os.path.join(target_folder, \"English\")\n",
    "\n",
    "synopses_per_file = 7\n",
    "\n",
    "distribute_synopses_progressive(iob2_path_French, receiving_folder_French, synopses_per_file)\n",
    "distribute_synopses_progressive(iob2_path_German, receiving_folder_German, synopses_per_file)\n",
    "distribute_synopses_progressive(iob2_path_English, receiving_folder_English, synopses_per_file)"
   ]
  }
 ],
 "metadata": {
  "kernelspec": {
   "display_name": "Python 3 (ipykernel)",
   "language": "python",
   "name": "python3"
  },
  "language_info": {
   "codemirror_mode": {
    "name": "ipython",
    "version": 3
   },
   "file_extension": ".py",
   "mimetype": "text/x-python",
   "name": "python",
   "nbconvert_exporter": "python",
   "pygments_lexer": "ipython3",
   "version": "3.11.5"
  }
 },
 "nbformat": 4,
 "nbformat_minor": 2
}
