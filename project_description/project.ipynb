{
 "cells": [
  {
   "cell_type": "markdown",
   "metadata": {},
   "source": [
    "## Project NLP and Deep Learning"
   ]
  },
  {
   "cell_type": "markdown",
   "metadata": {},
   "source": [
    "### 1. Project proposal presentation\n",
    "\n",
    "In the presentation, you have 5 minutes to present your research proposal. During the presentation, you should explain:\n",
    "* What was your baseline model (architecture, design decisions etc.)\n",
    "* What is the topic of your project, what is the current state of this topic/task/setup\n",
    "* What is the new part of your project\n",
    "* What is the research question of your project\n",
    "\n",
    "We have proposed a number of topics in the slides which can be found on LearnIt, you can either pick one of these or come up with your own. If you pick your own, we suggest to get a pre-approval with Rob van der Goot.\n",
    "\n",
    "**Deadline for uploading slides: 12-03 on LearnIt (14:00)**  (pdf only, they will be put into one long pdf for a smooth presentation)\n",
    "\n",
    "**Presentations: 13-03 from 08:00-12:00**, we will split the class in half for the lecture hours (08:00-10:00) and the lab hours (10:00-12:00)\n"
   ]
  },
  {
   "cell_type": "markdown",
   "metadata": {},
   "source": [
    "### 2. Baseline\n",
    "To get your project started, you start with implementing a baseline model. Ideally, this is going to be the main baseline that you are going to compare to in your paper. Note that this baseline should be more advanced than just predicting the majority class (O).\n",
    "\n",
    "We will use EWT portion of the [Universal NER project](http://www.universalner.org/), which we provide with this notebook for convenience. You can use the train data (`en_ewt-ud-train.iob2`) and dev data(`en_ewt-ud-dev.iob2`) to build your baseline, then upload your prediction on the test data (`en_ewt-ud-test.iob2`).\n",
    "\n",
    "It is important to upload your predictions in same format as the training and dev files, so that the `span_f1.py` script can be used.\n",
    "\n",
    "Note that you do not have to implement your baseline from scratch, you can use for example the code from the RNN or BERT assignments as a starting point.\n",
    "\n",
    "**Deadline: 20-03 on LearnIt (11:59)**"
   ]
  },
  {
   "cell_type": "markdown",
   "metadata": {},
   "source": [
    "### 3. Project proposal\n",
    "\n",
    "The written proposal should consist of maximum one page in [ACL-format](https://github.com/acl-org/acl-style-files) (The bibliography does not count for the word limit). In here, you should explain the last three points from the list above and place your project in a larger context (previous work).\n",
    "\n",
    "Make sure your proposal is:\n",
    "* Novel to some extent\n",
    "* Doable within the time-frame\n",
    "\n",
    "*hint* The [ACL Anthology](https://aclanthology.org/) contains almost all peer-reviewed NLP papers.\n",
    "\n",
    "**Deadline: 03-04 on LearnIt (14:00)**"
   ]
  },
  {
   "cell_type": "markdown",
   "metadata": {},
   "source": [
    "### 4. Final project\n",
    "The final project has a maximum size of 5 pages (excluding bibliography and appendix), using the [ACL style files](https://github.com/acl-org/acl-style-files)\n",
    "\n",
    "Besides the main paper (discussed in class), you have to include:\n",
    "* Group contributions. State who was responsible for which part of the project. Here you may state if there\n",
    "were any serious unequal workloads among group members. This should be put in the appendix.\n",
    "* A report on usage of chatbots. We follow: https://2023.aclweb.org/blog/ACL-2023-policy/\n",
    "   * Add a section in appendix if you made use of a chatbot (since we do not use a Responsible NLP Checklist)\n",
    "   * Include each stage on the ACL policy, and indicate to what extend you used a chatbot\n",
    "   * Use with care!, you are responsible for the project and plagiarism, correctness etc.\n",
    "\n",
    "You can also put additional results and details in the appendix. However, the paper itself should be standalone, and understandable without consulting the appendix.\n",
    "\n",
    "Furthermore, the code should be available on www.github.itu.dk (with a link in a footnote at the end of the abstract) , it should include a README with instructions on how to reproduce your results.\n",
    "\n",
    "**Deadline: 24-05 on LearnIt (14:00)** Please check the checklist below before uploading!\n",
    "\n",
    "Optionally, you can upload a draft a week before **17-05 (before 09:00)** for an extra round of feedback"
   ]
  },
  {
   "cell_type": "markdown",
   "metadata": {},
   "source": [
    "## Analysis\n",
    "\n",
    "Analysis is essential for the interpretation of your results. In this section we will shortly describe some different types of analysis. We strongly suggest to use at least one of these:\n",
    "\n",
    "* **Ablation study**: Leave out a certain part of the model, to study its effects. For example, disable the tokenizer, remove a certain (group of) feature(s), or disable the stop-word removal. If the performance drops a lot, it means that this part of the model contributes heavily to the models final performance. This is commonly done in 1 table, while disabling different parts of the model. Note that you can also do this the other way around, i.e. use only one feature (group) at a time, and test performance\n",
    "* **Learning curve**: Evaluate how much data your model needs to reach a certain performance. Especially for the data augmentation projects this is essential.\n",
    "* **Quantitative analysis**: Automated means of analyzing in which cases your model performs worse. This can for example be done with a confusion matrix.\n",
    "* **Qualitative analysis**: Manually inspect a certain number of errors, and try to categorize them/find trends. Can be combined with the quantitative analysis, i.e., inspect 100 cases of positive reviews predicted to be negative and 100 cases of negative reviews predicted to be positive\n",
    "* **Feature importance**: In traditional machine learning methods, one can often extract and inspect the weights of the features. In sklearn these can be found in: `trained_model.coef_`\n",
    "* **Other metrics**: per class scores, partial matches, or count how often the span-borders were correct, but the label wrong.\n",
    "* **Input words importance**: To gain insight into which words have a impact on prediction performance (positive, negative), we can analyze per-word impact: given a trained model, replace a given word with\n",
    "the unknown word token and observe the change in prediction score (probability for a class). This is\n",
    "shown in Figure 4 of [Rethmeier et al (2018)](https://aclweb.org/anthology/W18-6246) (a paper on controversy detection), also shown below: red-colored\n",
    "tokens were important for controversy detection, blue-colored token decreased prediction scores.\n",
    "\n",
    "<img width=400px src=example.png>\n",
    "\n",
    "Note that this is a non-exhaustive list, and you are encouraged to also explore additional analyses."
   ]
  },
  {
   "cell_type": "markdown",
   "metadata": {},
   "source": [
    "### Checklist final project\n",
    "Please check all these items before handing in your final report. You only have to upload a pdf file on learnit, and make sure a link to the code is included in the report and the code is accesible. \n",
    "\n",
    "* Are all group members and their email addresses specified?\n",
    "* Does the group report include a representative project title?\n",
    "* Does the group report contain an abstract?\n",
    "* Does the introduction clearly specify the research intention and research question?\n",
    "* Does the group report adequately refer to the relevant literature?\n",
    "* Does the group report properly use figure, tables and examples?\n",
    "* Does the group report provide and discuss the empirical results?\n",
    "* Is the group report proofread?\n",
    "* Does the pdf contain the link to the project’s github repo?\n",
    "* Is the github repo accessible to the public (within ITU)?\n",
    "* Is the group report maximum 5 pages long, excluding references and appendix?\n",
    "* Are the group contributions added in the appendix?\n",
    "* Does the repository contain all scripts and code to reproduce the results in the group report? Are instructions\n",
    " provided on how to run the code?\n"
   ]
  }
 ],
 "metadata": {
  "kernelspec": {
   "display_name": "Python 3 (ipykernel)",
   "language": "python",
   "name": "python3"
  },
  "language_info": {
   "codemirror_mode": {
    "name": "ipython",
    "version": 3
   },
   "file_extension": ".py",
   "mimetype": "text/x-python",
   "name": "python",
   "nbconvert_exporter": "python",
   "pygments_lexer": "ipython3",
   "version": "3.11.4"
  }
 },
 "nbformat": 4,
 "nbformat_minor": 2
}
