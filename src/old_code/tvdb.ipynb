{
 "cells": [
  {
   "cell_type": "code",
   "execution_count": 3,
   "metadata": {},
   "outputs": [
    {
     "name": "stdout",
     "output_type": "stream",
     "text": [
      "Note: you may need to restart the kernel to use updated packages.\n",
      "Note: you may need to restart the kernel to use updated packages.\n"
     ]
    }
   ],
   "source": [
    "%pip install tvdb_v4_official -q\n",
    "%pip install python-dotenv -q"
   ]
  },
  {
   "cell_type": "code",
   "execution_count": 4,
   "metadata": {},
   "outputs": [],
   "source": [
    "import os\n",
    "from dotenv import load_dotenv\n",
    "load_dotenv()\n",
    "api_key = os.getenv('TVDB_API_KEY')\n",
    "assert api_key, \"No API key found. Please set the TVDB_API_KEY environment variable.\""
   ]
  },
  {
   "cell_type": "code",
   "execution_count": 218,
   "metadata": {},
   "outputs": [],
   "source": [
    "import pickle\n",
    "from pathlib import Path\n",
    "import dis\n",
    "\n",
    "def p(name, func, log=False, cache='cache'):\n",
    "    if cache[-1] == '/': cache = cache[:-1]\n",
    "    \n",
    "    Path(cache).mkdir(exist_ok=True)\n",
    "\n",
    "    try:\n",
    "        with open(f'{cache}/{name}.pkl', 'rb') as f:\n",
    "            if log: print(f'success loading {cache}/{name}.pkl')\n",
    "            return pickle.load(f)\n",
    "    except:\n",
    "        if log: print(f'failed loading {cache}/{name}.pkl')\n",
    "        result = func()\n",
    "        with open(f'{cache}/{name}.pkl', 'wb') as f:\n",
    "            pickle.dump(result, f)\n",
    "        if log: print(f'cache saved.')\n",
    "        return result"
   ]
  },
  {
   "cell_type": "code",
   "execution_count": 235,
   "metadata": {},
   "outputs": [
    {
     "name": "stdout",
     "output_type": "stream",
     "text": [
      "languages: ['ces', 'deu', 'eng', 'fin', 'fra', 'heb', 'hun', 'ita', 'jpn', 'nld', 'por', 'rus', 'spa', 'swe', 'zho', 'nor', 'pol', 'pt', 'ara', 'zhtw', 'yue']\n",
      "{'id': 315865, 'seriesId': 76703, 'name': 'Pokémon 08 - Lucario et le Mystère de Mew', 'aired': '2005-07-16', 'runtime': 103, 'nameTranslations': None, 'overview': \"La légende dit qu'autrefois Aaron, l'Aura Gardien, aidé par son Pokémon Lucario, réussit à arrêter une terrible guerre. Au Palais Cameran, les habitants organisent chaque année un tournoi Pokémon pour le célébrer. Sacha y participe et gagne, obtenant ainsi le titre d'Aura Gardien. Mais le Pokémon légendaire Mew apparaît alors et kidnappe Pikachu ! Lucario fait irruption et emmène Sacha et ses amis dans un périple à destination du mystérieux Arbre des Origines...\", 'overviewTranslations': None, 'image': '/banners/episodes/76703/315865.jpg', 'imageType': 11, 'isMovie': 1, 'seasons': None, 'number': 9, 'seasonNumber': 0, 'lastUpdated': '2023-06-18 10:03:12', 'finaleType': None, 'airsBeforeSeason': 8, 'airsBeforeEpisode': 44, 'year': '2005', 'linkedMovie': 7189}\n"
     ]
    }
   ],
   "source": [
    "import tvdb_v4_official\n",
    "import itertools\n",
    "\n",
    "tvdb = tvdb_v4_official.TVDB(api_key)\n",
    "pokeid = 76703\n",
    "\n",
    "pokemon = p('series', lambda: tvdb.get_series(pokeid))\n",
    "languages = pokemon['overviewTranslations']\n",
    "print('languages:', languages)\n",
    "\n",
    "def get_eps(lang=None):\n",
    "    eps_jp = []\n",
    "    page = 0\n",
    "    while True:\n",
    "        eps = p(f'episodes_{lang or \"jpn\"}_{page}', lambda: tvdb.get_series_episodes(pokeid, page=page, lang=lang))['episodes']\n",
    "        if not eps: break\n",
    "        eps_jp += eps\n",
    "        page += 1\n",
    "    return eps_jp\n",
    "\n",
    "eps_jpn = p('episodes_jpn', lambda: get_eps())\n",
    "eps_eng = p('episodes_eng', lambda: get_eps('eng'))\n",
    "eps_fra = p('episodes_fra', lambda: get_eps('fra'))"
   ]
  }
 ],
 "metadata": {
  "kernelspec": {
   "display_name": "nlpdl",
   "language": "python",
   "name": "python3"
  },
  "language_info": {
   "codemirror_mode": {
    "name": "ipython",
    "version": 3
   },
   "file_extension": ".py",
   "mimetype": "text/x-python",
   "name": "python",
   "nbconvert_exporter": "python",
   "pygments_lexer": "ipython3",
   "version": "3.11.7"
  }
 },
 "nbformat": 4,
 "nbformat_minor": 2
}
