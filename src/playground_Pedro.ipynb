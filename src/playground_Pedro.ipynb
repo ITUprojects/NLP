{
 "cells": [
  {
   "cell_type": "code",
   "execution_count": 1,
   "metadata": {},
   "outputs": [],
   "source": [
    "# %pip install datasets -q\n",
    "# %pip install transformers -q\n",
    "# %pip install torch -q\n",
    "# %pip install seqeval -q\n",
    "# %pip install evaluate -q\n",
    "# %pip install accelerate -q"
   ]
  },
  {
   "cell_type": "code",
   "execution_count": 2,
   "metadata": {},
   "outputs": [],
   "source": [
    "from datasetutils import decode\n",
    "from iob2converter import iob2_to_dataset\n",
    "from transformers import AutoModelForTokenClassification"
   ]
  },
  {
   "cell_type": "code",
   "execution_count": 3,
   "metadata": {},
   "outputs": [
    {
     "name": "stdout",
     "output_type": "stream",
     "text": [
      "['O', 'B-PER', 'I-PER', 'B-ORG', 'I-ORG', 'B-LOC', 'I-LOC', 'B-MISC', 'I-MISC', 'B-POK', 'I-POK']\n"
     ]
    }
   ],
   "source": [
    "file_path = '../data/TaggedSeparated/German/synopses_02.iob2'\n",
    "\n",
    "de_ds = iob2_to_dataset(file_path)\n",
    "\n",
    "ner_feature_fr = de_ds.features['ner_tags']\n",
    "label_names = ner_feature_fr.feature.names\n",
    "print(label_names)"
   ]
  },
  {
   "cell_type": "code",
   "execution_count": 4,
   "metadata": {},
   "outputs": [
    {
     "name": "stdout",
     "output_type": "stream",
     "text": [
      "Ash   Pikachu und der Rest der Gang sehen ihre größte Herausforderung entgegen als zwei hinterlistige Diebinnen den geheimnisvollsten und gefährlichsten aller Kristalle Herztropfen rauben wollen Fällt er in ihre Hände ist die Zerstörung der Wasserstadt Altomare unvermeidbar Es beginnt ein atemberaubendes Rennen gegen die Zeit bei dem die letzte Hoffnung auf Latios und Latias ruht die als Hüter des Kristalls mit magischen Kräften ausgestattet sind \n",
      "B-PER B-POK   O   O   O    O   O    O     O    O      O               O        O   O    O             O         O   O                 O   O              O     O         O           O      O      O     O  O  O    O     O   O   O          O   B-LOC       I-LOC    O            O  O       O   O               O      O     O   O    O   O   O   O      O        O   B-POK  O   B-POK  O    O   O   O     O   O         O   O         O       O            O    \n"
     ]
    }
   ],
   "source": [
    "words = de_ds[0]['tokens']\n",
    "labels = de_ds[0]['ner_tags']\n",
    "print('\\n'.join(decode(words, labels, label_names)))"
   ]
  },
  {
   "cell_type": "code",
   "execution_count": 5,
   "metadata": {},
   "outputs": [],
   "source": [
    "from transformers import AutoTokenizer\n",
    "\n",
    "model_id = 'google-bert/bert-base-multilingual-cased'\n",
    "tokenizer = AutoTokenizer.from_pretrained(model_id)"
   ]
  },
  {
   "cell_type": "code",
   "execution_count": 6,
   "metadata": {},
   "outputs": [],
   "source": [
    "def tokenize_and_align_labels(examples):\n",
    "    tokenized_inputs = tokenizer(\n",
    "        examples[\"tokens\"], \n",
    "        truncation=True, \n",
    "        padding=\"max_length\", \n",
    "        max_length=128,\n",
    "        is_split_into_words=True\n",
    "    )\n",
    "\n",
    "    all_labels = examples[\"ner_tags\"]\n",
    "\n",
    "    new_labels = []\n",
    "    for i, labels in enumerate(all_labels):\n",
    "        word_ids = tokenized_inputs.word_ids(batch_index=i)\n",
    "        new_labels.append(align_labels_with_tokens(labels, word_ids))\n",
    "\n",
    "    tokenized_inputs[\"labels\"] = new_labels\n",
    "\n",
    "    return tokenized_inputs\n",
    "\n",
    "def align_labels_with_tokens(labels, word_ids):\n",
    "    \"\"\"\n",
    "    This function aligns labels with tokens produced by the tokenizer.\n",
    "    - `-100` is used for special tokens to ignore them during training.\n",
    "    - If the label is B-XXX, subsequent sub-tokens receive I-XXX.\n",
    "    \"\"\"\n",
    "    new_labels = []\n",
    "    current_word = None\n",
    "    for word_id in word_ids:\n",
    "        if word_id != current_word:\n",
    "            current_word = word_id\n",
    "            label = -100 if word_id is None else labels[word_id]\n",
    "            new_labels.append(label)\n",
    "        elif word_id is None:\n",
    "            new_labels.append(-100)\n",
    "        else:\n",
    "            label = labels[word_id]\n",
    "            # Convert B-XXX to I-XXX for sub-tokens\n",
    "            if label % 2 == 1:\n",
    "                label += 1\n",
    "            new_labels.append(label)\n",
    "\n",
    "    return new_labels"
   ]
  },
  {
   "cell_type": "code",
   "execution_count": 10,
   "metadata": {},
   "outputs": [
    {
     "data": {
      "application/vnd.jupyter.widget-view+json": {
       "model_id": "0fc03495cdc44b17a6805725a58a0fdc",
       "version_major": 2,
       "version_minor": 0
      },
      "text/plain": [
       "Casting the dataset:   0%|          | 0/14 [00:00<?, ? examples/s]"
      ]
     },
     "metadata": {},
     "output_type": "display_data"
    },
    {
     "data": {
      "application/vnd.jupyter.widget-view+json": {
       "model_id": "ba6b85f1e7d9414d9ad283320742ac5e",
       "version_major": 2,
       "version_minor": 0
      },
      "text/plain": [
       "Casting the dataset:   0%|          | 0/1 [00:00<?, ? examples/s]"
      ]
     },
     "metadata": {},
     "output_type": "display_data"
    },
    {
     "data": {
      "application/vnd.jupyter.widget-view+json": {
       "model_id": "2e8c11bcb01241149f3986d1e719f95e",
       "version_major": 2,
       "version_minor": 0
      },
      "text/plain": [
       "Casting the dataset:   0%|          | 0/1 [00:00<?, ? examples/s]"
      ]
     },
     "metadata": {},
     "output_type": "display_data"
    },
    {
     "data": {
      "application/vnd.jupyter.widget-view+json": {
       "model_id": "05381554e68a4e7c9f82f336c33af8b2",
       "version_major": 2,
       "version_minor": 0
      },
      "text/plain": [
       "Casting the dataset:   0%|          | 0/1 [00:00<?, ? examples/s]"
      ]
     },
     "metadata": {},
     "output_type": "display_data"
    }
   ],
   "source": [
    "from datasets import Dataset, DatasetDict, Features, Sequence, ClassLabel, Value\n",
    "\n",
    "tag_to_id = {\n",
    "\t'O': 0,\n",
    "\t'B-PER': 1,\n",
    "\t'I-PER': 2,\n",
    "\t'B-ORG': 3,\n",
    "\t'I-ORG': 4,\n",
    "\t'B-LOC': 5,\n",
    "\t'I-LOC': 6,\n",
    "\t'B-MISC': 7,\n",
    "\t'I-MISC': 8,\n",
    "\t'B-POK': 9,\n",
    "\t'I-POK': 10,\n",
    "}\n",
    "id_to_tag = {id: tag for tag, id in tag_to_id.items()}\n",
    "\n",
    "def iob2_to_datasets(file_path, reference_path):\n",
    "    \"\"\"\n",
    "    Converts an IOB2 file into a DatasetDict with train and validation splits.\n",
    "    Assumes the input file uses whitespace to separate tokens and tags, and that each sentence is separated by a blank line.\n",
    "    \"\"\"\n",
    "    tokens, ner_tags = [], []\n",
    "    sentences, sentence_tags = [], []\n",
    "\n",
    "    label_set = set()\n",
    "    with open(file_path, 'r', encoding='utf-8') as f:\n",
    "        for line in f:\n",
    "            line = line.strip()\n",
    "            if not line:\n",
    "                if tokens and ner_tags:\n",
    "                    sentences.append(tokens)\n",
    "                    sentence_tags.append(ner_tags)\n",
    "                tokens, ner_tags = [], []\n",
    "            else:\n",
    "                word, tag = line.split()\n",
    "                tokens.append(word)\n",
    "                ner_tags.append(tag)\n",
    "                label_set.add(tag)\n",
    "\n",
    "        if tokens and ner_tags:\n",
    "            sentences.append(tokens)\n",
    "            sentence_tags.append(ner_tags)\n",
    "\n",
    "    label_list = list(tag_to_id.keys())\n",
    "    label_mapping = {label: i for i, label in enumerate(label_list)}\n",
    "\n",
    "    indexed_tags = [[label_mapping[tag] for tag in tags] for tags in sentence_tags]\n",
    "    dataset = Dataset.from_dict({\"tokens\": sentences, \"ner_tags\": indexed_tags})\n",
    "    reference_german = iob2_to_dataset(reference_path[0]).remove_columns([\"ner_tags_id\", \"index\", \"id\"])\n",
    "    reference_french = iob2_to_dataset(reference_path[1]).remove_columns([\"ner_tags_id\", \"index\", \"id\"])\n",
    "    reference_english = iob2_to_dataset(reference_path[2]).remove_columns([\"ner_tags_id\", \"index\", \"id\"])\n",
    "    \n",
    "\n",
    "    features = Features({\n",
    "        \"tokens\": Sequence(Value(\"string\")),\n",
    "        \"ner_tags\": Sequence(ClassLabel(names=label_list))\n",
    "    })\n",
    "\n",
    "    datasets = DatasetDict({\n",
    "        \"train\": dataset.cast(features),\n",
    "        \"val_ger\": reference_german.cast(features),\n",
    "        \"val_fr\": reference_french.cast(features),\n",
    "        \"val_en\": reference_english.cast(features),\n",
    "    })\n",
    "\n",
    "    return datasets\n",
    "\n",
    "file_path = '../data/TaggedSeparated/German/synopses_02.iob2'\n",
    "reference_grp_path = ['../ReferenceText/ReferenceTextGerman.iob2', '../ReferenceText/ReferenceTextFrench.iob2', '../ReferenceText/ReferenceTextEnglish.iob2']\n",
    "\n",
    "de_ds = iob2_to_datasets(file_path, reference_grp_path)"
   ]
  },
  {
   "cell_type": "code",
   "execution_count": 11,
   "metadata": {},
   "outputs": [
    {
     "name": "stderr",
     "output_type": "stream",
     "text": [
      "Some weights of BertForTokenClassification were not initialized from the model checkpoint at google-bert/bert-base-multilingual-cased and are newly initialized: ['classifier.bias', 'classifier.weight']\n",
      "You should probably TRAIN this model on a down-stream task to be able to use it for predictions and inference.\n"
     ]
    }
   ],
   "source": [
    "model = AutoModelForTokenClassification.from_pretrained(\n",
    "    model_id, num_labels=len(label_names)\n",
    ")"
   ]
  },
  {
   "cell_type": "code",
   "execution_count": 12,
   "metadata": {},
   "outputs": [
    {
     "data": {
      "application/vnd.jupyter.widget-view+json": {
       "model_id": "db6e2a7929664caea04184a90ae92232",
       "version_major": 2,
       "version_minor": 0
      },
      "text/plain": [
       "Map:   0%|          | 0/14 [00:00<?, ? examples/s]"
      ]
     },
     "metadata": {},
     "output_type": "display_data"
    },
    {
     "data": {
      "application/vnd.jupyter.widget-view+json": {
       "model_id": "8c2b24f2798f41698d4d5f607f192ba4",
       "version_major": 2,
       "version_minor": 0
      },
      "text/plain": [
       "Map:   0%|          | 0/1 [00:00<?, ? examples/s]"
      ]
     },
     "metadata": {},
     "output_type": "display_data"
    },
    {
     "data": {
      "application/vnd.jupyter.widget-view+json": {
       "model_id": "3c43291281964fc09ef2ea8983ff7886",
       "version_major": 2,
       "version_minor": 0
      },
      "text/plain": [
       "Map:   0%|          | 0/1 [00:00<?, ? examples/s]"
      ]
     },
     "metadata": {},
     "output_type": "display_data"
    },
    {
     "data": {
      "application/vnd.jupyter.widget-view+json": {
       "model_id": "9e5661d284f74112a5ce273b8facb82f",
       "version_major": 2,
       "version_minor": 0
      },
      "text/plain": [
       "Map:   0%|          | 0/1 [00:00<?, ? examples/s]"
      ]
     },
     "metadata": {},
     "output_type": "display_data"
    },
    {
     "name": "stdout",
     "output_type": "stream",
     "text": [
      "DatasetDict({\n",
      "    train: Dataset({\n",
      "        features: ['tokens', 'ner_tags', 'input_ids', 'token_type_ids', 'attention_mask', 'labels'],\n",
      "        num_rows: 14\n",
      "    })\n",
      "    val_ger: Dataset({\n",
      "        features: ['tokens', 'ner_tags', 'input_ids', 'token_type_ids', 'attention_mask', 'labels'],\n",
      "        num_rows: 1\n",
      "    })\n",
      "    val_fr: Dataset({\n",
      "        features: ['tokens', 'ner_tags', 'input_ids', 'token_type_ids', 'attention_mask', 'labels'],\n",
      "        num_rows: 1\n",
      "    })\n",
      "    val_en: Dataset({\n",
      "        features: ['tokens', 'ner_tags', 'input_ids', 'token_type_ids', 'attention_mask', 'labels'],\n",
      "        num_rows: 1\n",
      "    })\n",
      "})\n"
     ]
    }
   ],
   "source": [
    "tokenized_ds = de_ds.map(tokenize_and_align_labels, batched=True)\n",
    "\n",
    "print(tokenized_ds)"
   ]
  },
  {
   "cell_type": "code",
   "execution_count": 13,
   "metadata": {},
   "outputs": [
    {
     "name": "stdout",
     "output_type": "stream",
     "text": [
      "WARNING:tensorflow:From c:\\Users\\serru\\.conda\\envs\\New\\lib\\site-packages\\keras\\losses.py:2664: The name tf.losses.sparse_softmax_cross_entropy is deprecated. Please use tf.compat.v1.losses.sparse_softmax_cross_entropy instead.\n",
      "\n"
     ]
    }
   ],
   "source": [
    "import evaluate\n",
    "\n",
    "metric = evaluate.load(\"seqeval\")"
   ]
  },
  {
   "cell_type": "code",
   "execution_count": 14,
   "metadata": {},
   "outputs": [],
   "source": [
    "# Rob span-f1 \n",
    "\n",
    "def toSpans(tags):\n",
    "    spans = set()\n",
    "    for beg in range(len(tags)):\n",
    "        if tags[beg][0] == 'B':\n",
    "            end = beg\n",
    "            for end in range(beg+1, len(tags)):\n",
    "                if tags[end][0] != 'I':\n",
    "                    break\n",
    "            spans.add(str(beg) + '-' + str(end) + ':' + tags[beg][2:])\n",
    "    return spans\n",
    "\n",
    "\n",
    "def getInstanceScores(predSpans, goldSpans):\n",
    "    tp = 0\n",
    "    fp = 0\n",
    "    fn = 0\n",
    "    overlap = len(goldSpans.intersection(predSpans))\n",
    "    tp += overlap\n",
    "    fp += len(predSpans) - overlap\n",
    "    fn += len(goldSpans) - overlap\n",
    "        \n",
    "    prec = 0.0 if tp+fp == 0 else tp/(tp+fp)\n",
    "    rec = 0.0 if tp+fn == 0 else tp/(tp+fn)\n",
    "    f1 = 0.0 if prec+rec == 0.0 else 2 * (prec * rec) / (prec + rec)\n",
    "    return f1\n"
   ]
  },
  {
   "cell_type": "code",
   "execution_count": 15,
   "metadata": {},
   "outputs": [],
   "source": [
    "import numpy as np\n",
    "\n",
    "\n",
    "def compute_metrics(eval_preds):\n",
    "    logits, labels = eval_preds\n",
    "    predictions = np.argmax(logits, axis=-1)\n",
    "\n",
    "    true_labels = [[label_names[l] for l in label if l != -100] for label in labels]\n",
    "    true_predictions = [\n",
    "        [label_names[p] for (p, l) in zip(prediction, label) if l != -100]\n",
    "        for prediction, label in zip(predictions, labels)\n",
    "    ]\n",
    "    all_metrics = metric.compute(predictions=true_predictions, references=true_labels)\n",
    "    \n",
    "    pred_spans, true_spans = toSpans(true_predictions[0]), toSpans(true_labels[0])\n",
    "    print(pred_spans, true_spans)\n",
    "    score = getInstanceScores(pred_spans, true_spans)\n",
    "\n",
    "    return {\n",
    "        \"precision\": all_metrics[\"overall_precision\"],\n",
    "        \"recall\": all_metrics[\"overall_recall\"],\n",
    "        \"f1\": all_metrics[\"overall_f1\"],\n",
    "        \"accuracy\": all_metrics[\"overall_accuracy\"],\n",
    "        \"span_f1\": score\n",
    "    }"
   ]
  },
  {
   "cell_type": "code",
   "execution_count": 16,
   "metadata": {},
   "outputs": [
    {
     "name": "stderr",
     "output_type": "stream",
     "text": [
      "Some weights of BertForTokenClassification were not initialized from the model checkpoint at google-bert/bert-base-multilingual-cased and are newly initialized: ['classifier.bias', 'classifier.weight']\n",
      "You should probably TRAIN this model on a down-stream task to be able to use it for predictions and inference.\n"
     ]
    },
    {
     "data": {
      "text/plain": [
       "11"
      ]
     },
     "execution_count": 16,
     "metadata": {},
     "output_type": "execute_result"
    }
   ],
   "source": [
    "from transformers import AutoModelForTokenClassification\n",
    "model = AutoModelForTokenClassification.from_pretrained (\n",
    "    model_id,\n",
    "    num_labels=len(label_names),\n",
    "    id2label={id: label for id, label in enumerate(label_names)},\n",
    "    label2id={label: id for id, label in enumerate(label_names)},\n",
    ")\n",
    "model.config.num_labels"
   ]
  },
  {
   "cell_type": "code",
   "execution_count": 17,
   "metadata": {},
   "outputs": [],
   "source": [
    "from transformers import TrainingArguments\n",
    "from transformers import Trainer\n",
    "\n",
    "\n",
    "args = TrainingArguments(\n",
    "    \"mbert-finetuned-ner\",\n",
    "    evaluation_strategy=\"epoch\",\n",
    "    save_strategy=\"epoch\",\n",
    "    learning_rate=2e-5,\n",
    "    num_train_epochs=3,\n",
    "    weight_decay=0.01,\n",
    ")"
   ]
  },
  {
   "cell_type": "code",
   "execution_count": 18,
   "metadata": {},
   "outputs": [],
   "source": [
    "# trainer = Trainer(\n",
    "#     model=model,\n",
    "#     args=args,\n",
    "#     train_dataset=tokenized_ds[\"train\"],\n",
    "#     eval_dataset=tokenized_ds[\"validation\"],\n",
    "#     compute_metrics=compute_metrics,\n",
    "# )\n",
    "\n",
    "# trainer.train()\n"
   ]
  },
  {
   "cell_type": "code",
   "execution_count": 50,
   "metadata": {},
   "outputs": [
    {
     "data": {
      "application/vnd.jupyter.widget-view+json": {
       "model_id": "04b3374a49d9424281ae77793720e8c5",
       "version_major": 2,
       "version_minor": 0
      },
      "text/plain": [
       "Casting the dataset:   0%|          | 0/7 [00:00<?, ? examples/s]"
      ]
     },
     "metadata": {},
     "output_type": "display_data"
    },
    {
     "data": {
      "application/vnd.jupyter.widget-view+json": {
       "model_id": "6633afb42c7148358d20621059b2f164",
       "version_major": 2,
       "version_minor": 0
      },
      "text/plain": [
       "Casting the dataset:   0%|          | 0/1 [00:00<?, ? examples/s]"
      ]
     },
     "metadata": {},
     "output_type": "display_data"
    },
    {
     "data": {
      "application/vnd.jupyter.widget-view+json": {
       "model_id": "81841d0163da4a13ae8273b6a133613e",
       "version_major": 2,
       "version_minor": 0
      },
      "text/plain": [
       "Casting the dataset:   0%|          | 0/1 [00:00<?, ? examples/s]"
      ]
     },
     "metadata": {},
     "output_type": "display_data"
    },
    {
     "data": {
      "application/vnd.jupyter.widget-view+json": {
       "model_id": "b51508e088e6424e9ed9b60f021acc60",
       "version_major": 2,
       "version_minor": 0
      },
      "text/plain": [
       "Casting the dataset:   0%|          | 0/1 [00:00<?, ? examples/s]"
      ]
     },
     "metadata": {},
     "output_type": "display_data"
    },
    {
     "data": {
      "application/vnd.jupyter.widget-view+json": {
       "model_id": "566e8d58d16c43728af767acc55c6bce",
       "version_major": 2,
       "version_minor": 0
      },
      "text/plain": [
       "Map:   0%|          | 0/7 [00:00<?, ? examples/s]"
      ]
     },
     "metadata": {},
     "output_type": "display_data"
    },
    {
     "data": {
      "application/vnd.jupyter.widget-view+json": {
       "model_id": "c950e0f4f0614381994a392a8e844774",
       "version_major": 2,
       "version_minor": 0
      },
      "text/plain": [
       "Map:   0%|          | 0/1 [00:00<?, ? examples/s]"
      ]
     },
     "metadata": {},
     "output_type": "display_data"
    },
    {
     "data": {
      "application/vnd.jupyter.widget-view+json": {
       "model_id": "52c27d31e9254c169560d5ed7c0ce56d",
       "version_major": 2,
       "version_minor": 0
      },
      "text/plain": [
       "Map:   0%|          | 0/1 [00:00<?, ? examples/s]"
      ]
     },
     "metadata": {},
     "output_type": "display_data"
    },
    {
     "data": {
      "application/vnd.jupyter.widget-view+json": {
       "model_id": "4e01d417a16d498abb37c04e02bc68d8",
       "version_major": 2,
       "version_minor": 0
      },
      "text/plain": [
       "Map:   0%|          | 0/1 [00:00<?, ? examples/s]"
      ]
     },
     "metadata": {},
     "output_type": "display_data"
    },
    {
     "name": "stderr",
     "output_type": "stream",
     "text": [
      "Some weights of BertForTokenClassification were not initialized from the model checkpoint at google-bert/bert-base-multilingual-cased and are newly initialized: ['classifier.bias', 'classifier.weight']\n",
      "You should probably TRAIN this model on a down-stream task to be able to use it for predictions and inference.\n"
     ]
    },
    {
     "data": {
      "application/vnd.jupyter.widget-view+json": {
       "model_id": "a6f3fbfb66d04257b80a45ecbd627f55",
       "version_major": 2,
       "version_minor": 0
      },
      "text/plain": [
       "  0%|          | 0/1 [00:00<?, ?it/s]"
      ]
     },
     "metadata": {},
     "output_type": "display_data"
    },
    {
     "name": "stdout",
     "output_type": "stream",
     "text": [
      "{'79-99:MISC', '33-60:ORG', '115-116:ORG', '1-6:POK', '112-113:ORG', '114-115:ORG', '18-22:ORG', '15-18:MISC', '116-125:MISC', '6-12:ORG', '32-33:LOC', '60-79:MISC', '99-112:ORG', '12-15:ORG', '113-114:ORG', '22-32:MISC'} {'54-55:PER', '39-43:POK', '111-112:PER', '11-12:PER', '7-9:LOC', '38-39:POK'}\n"
     ]
    },
    {
     "data": {
      "application/vnd.jupyter.widget-view+json": {
       "model_id": "37a8b2d862874a4aad995018118579ff",
       "version_major": 2,
       "version_minor": 0
      },
      "text/plain": [
       "  0%|          | 0/1 [00:00<?, ?it/s]"
      ]
     },
     "metadata": {},
     "output_type": "display_data"
    },
    {
     "name": "stdout",
     "output_type": "stream",
     "text": [
      "{'16-17:POK', '18-19:POK', '111-125:POK', '10-14:POK', '65-73:POK', '75-87:ORG', '90-92:POK', '25-28:POK', '19-24:POK', '17-18:POK', '33-41:POK', '58-60:POK', '9-10:POK', '28-33:ORG', '14-16:POK', '92-97:POK', '60-65:POK', '87-90:POK', '97-111:MISC', '44-58:POK', '73-75:POK', '41-44:MISC'} {'6-8:LOC', '91-96:POK', '9-10:PER', '39-40:PER', '31-32:POK', '30-31:POK', '103-104:PER', '81-82:PER', '122-123:PER'}\n"
     ]
    },
    {
     "data": {
      "application/vnd.jupyter.widget-view+json": {
       "model_id": "33b266eefbd64972aa533ef349f989ae",
       "version_major": 2,
       "version_minor": 0
      },
      "text/plain": [
       "  0%|          | 0/1 [00:00<?, ?it/s]"
      ]
     },
     "metadata": {},
     "output_type": "display_data"
    },
    {
     "name": "stdout",
     "output_type": "stream",
     "text": [
      "{'7-31:LOC', '81-82:POK', '57-67:LOC', '31-57:POK', '75-79:POK', '5-7:ORG', '103-105:ORG', '4-5:ORG', '106-113:ORG', '105-106:ORG', '113-115:LOC'} {'6-8:LOC', '115-120:POK', '48-49:PER', '102-103:PER', '36-38:POK', '11-12:PER', '38-39:POK'}\n"
     ]
    },
    {
     "data": {
      "application/vnd.jupyter.widget-view+json": {
       "model_id": "04d348fb74924eacb9be963cadbf7715",
       "version_major": 2,
       "version_minor": 0
      },
      "text/plain": [
       "Casting the dataset:   0%|          | 0/14 [00:00<?, ? examples/s]"
      ]
     },
     "metadata": {},
     "output_type": "display_data"
    },
    {
     "data": {
      "application/vnd.jupyter.widget-view+json": {
       "model_id": "1726cbd03d324288ae8e5ce4d09c48b0",
       "version_major": 2,
       "version_minor": 0
      },
      "text/plain": [
       "Casting the dataset:   0%|          | 0/1 [00:00<?, ? examples/s]"
      ]
     },
     "metadata": {},
     "output_type": "display_data"
    },
    {
     "data": {
      "application/vnd.jupyter.widget-view+json": {
       "model_id": "aa6043c4393b42de8155fbdcc73aa702",
       "version_major": 2,
       "version_minor": 0
      },
      "text/plain": [
       "Casting the dataset:   0%|          | 0/1 [00:00<?, ? examples/s]"
      ]
     },
     "metadata": {},
     "output_type": "display_data"
    },
    {
     "data": {
      "application/vnd.jupyter.widget-view+json": {
       "model_id": "13b5581eb19d440682fe480ab3733615",
       "version_major": 2,
       "version_minor": 0
      },
      "text/plain": [
       "Casting the dataset:   0%|          | 0/1 [00:00<?, ? examples/s]"
      ]
     },
     "metadata": {},
     "output_type": "display_data"
    },
    {
     "data": {
      "application/vnd.jupyter.widget-view+json": {
       "model_id": "9c13064f1aa142cbb6b5f5a323fcb367",
       "version_major": 2,
       "version_minor": 0
      },
      "text/plain": [
       "Map:   0%|          | 0/14 [00:00<?, ? examples/s]"
      ]
     },
     "metadata": {},
     "output_type": "display_data"
    },
    {
     "data": {
      "application/vnd.jupyter.widget-view+json": {
       "model_id": "96c7102bbfdd4b41b22976fb3fd7ac1f",
       "version_major": 2,
       "version_minor": 0
      },
      "text/plain": [
       "Map:   0%|          | 0/1 [00:00<?, ? examples/s]"
      ]
     },
     "metadata": {},
     "output_type": "display_data"
    },
    {
     "data": {
      "application/vnd.jupyter.widget-view+json": {
       "model_id": "8bd801000dcd480087f0881eb14e828e",
       "version_major": 2,
       "version_minor": 0
      },
      "text/plain": [
       "Map:   0%|          | 0/1 [00:00<?, ? examples/s]"
      ]
     },
     "metadata": {},
     "output_type": "display_data"
    },
    {
     "data": {
      "application/vnd.jupyter.widget-view+json": {
       "model_id": "bb81480932e0444ab592799e24672fd0",
       "version_major": 2,
       "version_minor": 0
      },
      "text/plain": [
       "Map:   0%|          | 0/1 [00:00<?, ? examples/s]"
      ]
     },
     "metadata": {},
     "output_type": "display_data"
    },
    {
     "name": "stderr",
     "output_type": "stream",
     "text": [
      "Some weights of BertForTokenClassification were not initialized from the model checkpoint at google-bert/bert-base-multilingual-cased and are newly initialized: ['classifier.bias', 'classifier.weight']\n",
      "You should probably TRAIN this model on a down-stream task to be able to use it for predictions and inference.\n"
     ]
    },
    {
     "data": {
      "application/vnd.jupyter.widget-view+json": {
       "model_id": "b0a6a89f05724f2997860ecf4363e88c",
       "version_major": 2,
       "version_minor": 0
      },
      "text/plain": [
       "  0%|          | 0/1 [00:00<?, ?it/s]"
      ]
     },
     "metadata": {},
     "output_type": "display_data"
    },
    {
     "name": "stdout",
     "output_type": "stream",
     "text": [
      "{'123-125:PER', '46-50:ORG', '21-22:MISC', '29-30:ORG', '33-35:MISC', '76-82:PER', '90-93:MISC', '70-74:MISC', '11-12:PER', '35-37:ORG', '74-76:ORG', '50-51:MISC', '88-89:MISC', '6-7:MISC', '39-41:ORG', '103-104:MISC', '118-119:MISC', '30-33:PER', '8-9:ORG', '93-96:ORG', '42-43:PER', '19-20:ORG', '96-97:PER', '15-19:MISC', '12-15:ORG', '27-29:MISC', '52-54:ORG', '38-39:PER', '97-102:MISC', '7-8:PER', '84-85:MISC', '22-23:ORG', '41-42:MISC', '54-57:MISC', '58-65:ORG', '89-90:MISC', '9-10:PER', '10-11:MISC', '2-4:PER', '23-27:LOC', '105-106:PER', '85-86:ORG', '5-6:PER', '104-105:ORG', '109-111:MISC', '122-123:ORG', '102-103:MISC', '119-120:PER', '114-118:ORG', '51-52:ORG', '120-121:ORG', '82-83:MISC', '20-21:PER', '43-45:ORG', '37-38:PER', '65-70:ORG', '86-88:ORG', '106-109:MISC', '45-46:ORG', '83-84:MISC', '121-122:ORG', '111-114:MISC', '57-58:MISC', '4-5:PER'} {'54-55:PER', '39-43:POK', '111-112:PER', '11-12:PER', '7-9:LOC', '38-39:POK'}\n"
     ]
    },
    {
     "data": {
      "application/vnd.jupyter.widget-view+json": {
       "model_id": "ea06d0d2459f45599bc9e7f0366999f3",
       "version_major": 2,
       "version_minor": 0
      },
      "text/plain": [
       "  0%|          | 0/1 [00:00<?, ?it/s]"
      ]
     },
     "metadata": {},
     "output_type": "display_data"
    },
    {
     "name": "stdout",
     "output_type": "stream",
     "text": [
      "{'61-64:LOC', '81-87:PER', '121-125:PER', '51-55:MISC', '32-34:LOC', '28-29:ORG', '21-22:ORG', '103-108:MISC', '118-119:MISC', '119-120:ORG', '7-8:ORG', '39-41:MISC', '26-28:ORG', '100-101:LOC', '101-103:MISC', '36-39:MISC', '41-48:ORG', '109-110:ORG', '9-21:MISC', '22-23:ORG', '110-118:POK', '29-31:ORG', '70-73:LOC', '55-61:LOC', '64-70:ORG', '87-91:LOC', '23-24:ORG', '24-25:ORG', '8-9:MISC', '25-26:ORG', '31-32:PER', '48-51:ORG', '120-121:ORG', '91-100:LOC', '73-81:LOC', '34-36:LOC', '6-7:PER'} {'6-8:LOC', '91-96:POK', '9-10:PER', '39-40:PER', '31-32:POK', '30-31:POK', '103-104:PER', '81-82:PER', '122-123:PER'}\n"
     ]
    },
    {
     "data": {
      "application/vnd.jupyter.widget-view+json": {
       "model_id": "8bf50d515b81463898e04e84cc83cca5",
       "version_major": 2,
       "version_minor": 0
      },
      "text/plain": [
       "  0%|          | 0/1 [00:00<?, ?it/s]"
      ]
     },
     "metadata": {},
     "output_type": "display_data"
    },
    {
     "name": "stdout",
     "output_type": "stream",
     "text": [
      "{'7-9:ORG', '19-21:MISC', '9-11:ORG', '114-115:ORG', '18-19:ORG', '96-99:ORG', '11-12:ORG', '87-91:MISC', '94-96:ORG', '84-85:ORG', '30-32:ORG', '52-53:LOC', '71-78:ORG', '32-37:ORG', '86-87:LOC', '39-42:ORG', '4-6:MISC', '99-100:ORG', '113-114:ORG', '93-94:ORG', '100-106:PER', '108-109:ORG', '70-71:LOC', '91-93:ORG', '12-13:ORG', '48-51:MISC', '62-63:LOC', '6-7:ORG', '64-68:MISC', '106-108:ORG', '13-18:ORG', '21-29:ORG', '51-52:LOC', '61-62:LOC', '85-86:ORG', '115-121:POK', '109-111:ORG', '79-84:ORG', '55-56:ORG', '121-122:ORG', '68-69:ORG', '122-123:POK', '2-4:MISC', '56-60:MISC', '63-64:MISC', '42-44:PER', '123-124:MISC', '111-113:ORG', '29-30:PER', '69-70:ORG', '60-61:POK', '53-55:LOC', '37-39:ORG'} {'6-8:LOC', '115-120:POK', '48-49:PER', '102-103:PER', '36-38:POK', '11-12:PER', '38-39:POK'}\n"
     ]
    },
    {
     "data": {
      "application/vnd.jupyter.widget-view+json": {
       "model_id": "fd2847d923a548f2b896b47f26358202",
       "version_major": 2,
       "version_minor": 0
      },
      "text/plain": [
       "Casting the dataset:   0%|          | 0/21 [00:00<?, ? examples/s]"
      ]
     },
     "metadata": {},
     "output_type": "display_data"
    },
    {
     "data": {
      "application/vnd.jupyter.widget-view+json": {
       "model_id": "ccd68a80657540de8fda47f53efce738",
       "version_major": 2,
       "version_minor": 0
      },
      "text/plain": [
       "Casting the dataset:   0%|          | 0/1 [00:00<?, ? examples/s]"
      ]
     },
     "metadata": {},
     "output_type": "display_data"
    },
    {
     "data": {
      "application/vnd.jupyter.widget-view+json": {
       "model_id": "e0b16c0787e74216baf62785045b157f",
       "version_major": 2,
       "version_minor": 0
      },
      "text/plain": [
       "Casting the dataset:   0%|          | 0/1 [00:00<?, ? examples/s]"
      ]
     },
     "metadata": {},
     "output_type": "display_data"
    },
    {
     "data": {
      "application/vnd.jupyter.widget-view+json": {
       "model_id": "acb102e9048d4c138e12ea9187ce02e0",
       "version_major": 2,
       "version_minor": 0
      },
      "text/plain": [
       "Casting the dataset:   0%|          | 0/1 [00:00<?, ? examples/s]"
      ]
     },
     "metadata": {},
     "output_type": "display_data"
    },
    {
     "data": {
      "application/vnd.jupyter.widget-view+json": {
       "model_id": "ce3b3a4b37c44d9aa9b784df92f794fb",
       "version_major": 2,
       "version_minor": 0
      },
      "text/plain": [
       "Map:   0%|          | 0/21 [00:00<?, ? examples/s]"
      ]
     },
     "metadata": {},
     "output_type": "display_data"
    },
    {
     "data": {
      "application/vnd.jupyter.widget-view+json": {
       "model_id": "5d1f9733dc4e40b6a62d5b27facffd34",
       "version_major": 2,
       "version_minor": 0
      },
      "text/plain": [
       "Map:   0%|          | 0/1 [00:00<?, ? examples/s]"
      ]
     },
     "metadata": {},
     "output_type": "display_data"
    },
    {
     "data": {
      "application/vnd.jupyter.widget-view+json": {
       "model_id": "daa2ebdd8c9843d4ad6faa5690948af2",
       "version_major": 2,
       "version_minor": 0
      },
      "text/plain": [
       "Map:   0%|          | 0/1 [00:00<?, ? examples/s]"
      ]
     },
     "metadata": {},
     "output_type": "display_data"
    },
    {
     "data": {
      "application/vnd.jupyter.widget-view+json": {
       "model_id": "01e7f4d810d54dae94a5f225f76f41a1",
       "version_major": 2,
       "version_minor": 0
      },
      "text/plain": [
       "Map:   0%|          | 0/1 [00:00<?, ? examples/s]"
      ]
     },
     "metadata": {},
     "output_type": "display_data"
    },
    {
     "name": "stderr",
     "output_type": "stream",
     "text": [
      "Some weights of BertForTokenClassification were not initialized from the model checkpoint at google-bert/bert-base-multilingual-cased and are newly initialized: ['classifier.bias', 'classifier.weight']\n",
      "You should probably TRAIN this model on a down-stream task to be able to use it for predictions and inference.\n"
     ]
    },
    {
     "data": {
      "application/vnd.jupyter.widget-view+json": {
       "model_id": "909fa70795d54908b47d1e1526770b2f",
       "version_major": 2,
       "version_minor": 0
      },
      "text/plain": [
       "  0%|          | 0/1 [00:00<?, ?it/s]"
      ]
     },
     "metadata": {},
     "output_type": "display_data"
    },
    {
     "name": "stdout",
     "output_type": "stream",
     "text": [
      "{'123-125:PER', '46-50:ORG', '21-22:MISC', '29-30:ORG', '33-35:MISC', '76-82:PER', '90-93:MISC', '70-74:MISC', '11-12:PER', '35-37:ORG', '74-76:ORG', '50-51:MISC', '88-89:MISC', '6-7:MISC', '39-41:ORG', '103-104:MISC', '118-119:MISC', '30-33:PER', '8-9:ORG', '93-96:ORG', '42-43:PER', '19-20:ORG', '96-97:PER', '15-19:MISC', '12-15:ORG', '27-29:MISC', '52-54:ORG', '38-39:PER', '97-102:MISC', '7-8:PER', '84-85:MISC', '22-23:ORG', '41-42:MISC', '54-57:MISC', '58-65:ORG', '89-90:MISC', '9-10:PER', '10-11:MISC', '2-4:PER', '23-27:LOC', '105-106:PER', '85-86:ORG', '5-6:PER', '104-105:ORG', '109-111:MISC', '122-123:ORG', '102-103:MISC', '119-120:PER', '114-118:ORG', '51-52:ORG', '120-121:ORG', '82-83:MISC', '20-21:PER', '43-45:ORG', '37-38:PER', '65-70:ORG', '86-88:ORG', '106-109:MISC', '45-46:ORG', '83-84:MISC', '121-122:ORG', '111-114:MISC', '57-58:MISC', '4-5:PER'} {'54-55:PER', '39-43:POK', '111-112:PER', '11-12:PER', '7-9:LOC', '38-39:POK'}\n"
     ]
    },
    {
     "data": {
      "application/vnd.jupyter.widget-view+json": {
       "model_id": "187d13dfcec343e4a6784aaaf8fc9c16",
       "version_major": 2,
       "version_minor": 0
      },
      "text/plain": [
       "  0%|          | 0/1 [00:00<?, ?it/s]"
      ]
     },
     "metadata": {},
     "output_type": "display_data"
    },
    {
     "name": "stdout",
     "output_type": "stream",
     "text": [
      "{'61-64:LOC', '81-87:PER', '121-125:PER', '51-55:MISC', '32-34:LOC', '28-29:ORG', '21-22:ORG', '103-108:MISC', '118-119:MISC', '119-120:ORG', '7-8:ORG', '39-41:MISC', '26-28:ORG', '100-101:LOC', '101-103:MISC', '36-39:MISC', '41-48:ORG', '109-110:ORG', '9-21:MISC', '22-23:ORG', '110-118:POK', '29-31:ORG', '70-73:LOC', '55-61:LOC', '64-70:ORG', '87-91:LOC', '23-24:ORG', '24-25:ORG', '8-9:MISC', '25-26:ORG', '31-32:PER', '48-51:ORG', '120-121:ORG', '91-100:LOC', '73-81:LOC', '34-36:LOC', '6-7:PER'} {'6-8:LOC', '91-96:POK', '9-10:PER', '39-40:PER', '31-32:POK', '30-31:POK', '103-104:PER', '81-82:PER', '122-123:PER'}\n"
     ]
    },
    {
     "data": {
      "application/vnd.jupyter.widget-view+json": {
       "model_id": "f7c8d30b0fb44ad08913670291e67f0a",
       "version_major": 2,
       "version_minor": 0
      },
      "text/plain": [
       "  0%|          | 0/1 [00:00<?, ?it/s]"
      ]
     },
     "metadata": {},
     "output_type": "display_data"
    },
    {
     "name": "stdout",
     "output_type": "stream",
     "text": [
      "{'7-9:ORG', '19-21:MISC', '9-11:ORG', '114-115:ORG', '18-19:ORG', '96-99:ORG', '11-12:ORG', '87-91:MISC', '94-96:ORG', '84-85:ORG', '30-32:ORG', '52-53:LOC', '71-78:ORG', '32-37:ORG', '86-87:LOC', '39-42:ORG', '4-6:MISC', '99-100:ORG', '113-114:ORG', '93-94:ORG', '100-106:PER', '108-109:ORG', '70-71:LOC', '91-93:ORG', '12-13:ORG', '48-51:MISC', '62-63:LOC', '6-7:ORG', '64-68:MISC', '106-108:ORG', '13-18:ORG', '21-29:ORG', '51-52:LOC', '61-62:LOC', '85-86:ORG', '115-121:POK', '109-111:ORG', '79-84:ORG', '55-56:ORG', '121-122:ORG', '68-69:ORG', '122-123:POK', '2-4:MISC', '56-60:MISC', '63-64:MISC', '42-44:PER', '123-124:MISC', '111-113:ORG', '29-30:PER', '69-70:ORG', '60-61:POK', '53-55:LOC', '37-39:ORG'} {'6-8:LOC', '115-120:POK', '48-49:PER', '102-103:PER', '36-38:POK', '11-12:PER', '38-39:POK'}\n"
     ]
    },
    {
     "data": {
      "application/vnd.jupyter.widget-view+json": {
       "model_id": "a0e1bbfe5d464491bcfcd183cf92aa43",
       "version_major": 2,
       "version_minor": 0
      },
      "text/plain": [
       "Casting the dataset:   0%|          | 0/28 [00:00<?, ? examples/s]"
      ]
     },
     "metadata": {},
     "output_type": "display_data"
    },
    {
     "data": {
      "application/vnd.jupyter.widget-view+json": {
       "model_id": "b3d4a1a05cc04ff0b774395459dbe913",
       "version_major": 2,
       "version_minor": 0
      },
      "text/plain": [
       "Casting the dataset:   0%|          | 0/1 [00:00<?, ? examples/s]"
      ]
     },
     "metadata": {},
     "output_type": "display_data"
    },
    {
     "data": {
      "application/vnd.jupyter.widget-view+json": {
       "model_id": "a736829814e14527b5f4f3880abd55c6",
       "version_major": 2,
       "version_minor": 0
      },
      "text/plain": [
       "Casting the dataset:   0%|          | 0/1 [00:00<?, ? examples/s]"
      ]
     },
     "metadata": {},
     "output_type": "display_data"
    },
    {
     "data": {
      "application/vnd.jupyter.widget-view+json": {
       "model_id": "3c604379d4cc4b40a2c18d7567498eb0",
       "version_major": 2,
       "version_minor": 0
      },
      "text/plain": [
       "Casting the dataset:   0%|          | 0/1 [00:00<?, ? examples/s]"
      ]
     },
     "metadata": {},
     "output_type": "display_data"
    },
    {
     "data": {
      "application/vnd.jupyter.widget-view+json": {
       "model_id": "4ef036d41cfe4913b157a6f3c669724c",
       "version_major": 2,
       "version_minor": 0
      },
      "text/plain": [
       "Map:   0%|          | 0/28 [00:00<?, ? examples/s]"
      ]
     },
     "metadata": {},
     "output_type": "display_data"
    },
    {
     "data": {
      "application/vnd.jupyter.widget-view+json": {
       "model_id": "a787ccefe5354e23abd0164345e6c080",
       "version_major": 2,
       "version_minor": 0
      },
      "text/plain": [
       "Map:   0%|          | 0/1 [00:00<?, ? examples/s]"
      ]
     },
     "metadata": {},
     "output_type": "display_data"
    },
    {
     "data": {
      "application/vnd.jupyter.widget-view+json": {
       "model_id": "fd0f54471d7042888ddb2bced212d17f",
       "version_major": 2,
       "version_minor": 0
      },
      "text/plain": [
       "Map:   0%|          | 0/1 [00:00<?, ? examples/s]"
      ]
     },
     "metadata": {},
     "output_type": "display_data"
    },
    {
     "data": {
      "application/vnd.jupyter.widget-view+json": {
       "model_id": "203abaf8a2334f308eaf6e0be6272989",
       "version_major": 2,
       "version_minor": 0
      },
      "text/plain": [
       "Map:   0%|          | 0/1 [00:00<?, ? examples/s]"
      ]
     },
     "metadata": {},
     "output_type": "display_data"
    },
    {
     "name": "stderr",
     "output_type": "stream",
     "text": [
      "Some weights of BertForTokenClassification were not initialized from the model checkpoint at google-bert/bert-base-multilingual-cased and are newly initialized: ['classifier.bias', 'classifier.weight']\n",
      "You should probably TRAIN this model on a down-stream task to be able to use it for predictions and inference.\n"
     ]
    },
    {
     "data": {
      "application/vnd.jupyter.widget-view+json": {
       "model_id": "404203d70eca4f279ee1dfbbdb872d0a",
       "version_major": 2,
       "version_minor": 0
      },
      "text/plain": [
       "  0%|          | 0/1 [00:00<?, ?it/s]"
      ]
     },
     "metadata": {},
     "output_type": "display_data"
    },
    {
     "name": "stdout",
     "output_type": "stream",
     "text": [
      "{'123-125:PER', '46-50:ORG', '21-22:MISC', '29-30:ORG', '33-35:MISC', '76-82:PER', '90-93:MISC', '70-74:MISC', '11-12:PER', '35-37:ORG', '74-76:ORG', '50-51:MISC', '88-89:MISC', '6-7:MISC', '39-41:ORG', '103-104:MISC', '118-119:MISC', '30-33:PER', '8-9:ORG', '93-96:ORG', '42-43:PER', '19-20:ORG', '96-97:PER', '15-19:MISC', '12-15:ORG', '27-29:MISC', '52-54:ORG', '38-39:PER', '97-102:MISC', '7-8:PER', '84-85:MISC', '22-23:ORG', '41-42:MISC', '54-57:MISC', '58-65:ORG', '89-90:MISC', '9-10:PER', '10-11:MISC', '2-4:PER', '23-27:LOC', '105-106:PER', '85-86:ORG', '5-6:PER', '104-105:ORG', '109-111:MISC', '122-123:ORG', '102-103:MISC', '119-120:PER', '114-118:ORG', '51-52:ORG', '120-121:ORG', '82-83:MISC', '20-21:PER', '43-45:ORG', '37-38:PER', '65-70:ORG', '86-88:ORG', '106-109:MISC', '45-46:ORG', '83-84:MISC', '121-122:ORG', '111-114:MISC', '57-58:MISC', '4-5:PER'} {'54-55:PER', '39-43:POK', '111-112:PER', '11-12:PER', '7-9:LOC', '38-39:POK'}\n"
     ]
    },
    {
     "data": {
      "application/vnd.jupyter.widget-view+json": {
       "model_id": "8acfb4397e0d45c89a63a6b39ff27735",
       "version_major": 2,
       "version_minor": 0
      },
      "text/plain": [
       "  0%|          | 0/1 [00:00<?, ?it/s]"
      ]
     },
     "metadata": {},
     "output_type": "display_data"
    },
    {
     "name": "stdout",
     "output_type": "stream",
     "text": [
      "{'61-64:LOC', '81-87:PER', '121-125:PER', '51-55:MISC', '32-34:LOC', '28-29:ORG', '21-22:ORG', '103-108:MISC', '118-119:MISC', '119-120:ORG', '7-8:ORG', '39-41:MISC', '26-28:ORG', '100-101:LOC', '101-103:MISC', '36-39:MISC', '41-48:ORG', '109-110:ORG', '9-21:MISC', '22-23:ORG', '110-118:POK', '29-31:ORG', '70-73:LOC', '55-61:LOC', '64-70:ORG', '87-91:LOC', '23-24:ORG', '24-25:ORG', '8-9:MISC', '25-26:ORG', '31-32:PER', '48-51:ORG', '120-121:ORG', '91-100:LOC', '73-81:LOC', '34-36:LOC', '6-7:PER'} {'6-8:LOC', '91-96:POK', '9-10:PER', '39-40:PER', '31-32:POK', '30-31:POK', '103-104:PER', '81-82:PER', '122-123:PER'}\n"
     ]
    },
    {
     "data": {
      "application/vnd.jupyter.widget-view+json": {
       "model_id": "a2f167e30f9749f9ac7fd217023d730a",
       "version_major": 2,
       "version_minor": 0
      },
      "text/plain": [
       "  0%|          | 0/1 [00:00<?, ?it/s]"
      ]
     },
     "metadata": {},
     "output_type": "display_data"
    },
    {
     "name": "stdout",
     "output_type": "stream",
     "text": [
      "{'7-9:ORG', '19-21:MISC', '9-11:ORG', '114-115:ORG', '18-19:ORG', '96-99:ORG', '11-12:ORG', '87-91:MISC', '94-96:ORG', '84-85:ORG', '30-32:ORG', '52-53:LOC', '71-78:ORG', '32-37:ORG', '86-87:LOC', '39-42:ORG', '4-6:MISC', '99-100:ORG', '113-114:ORG', '93-94:ORG', '100-106:PER', '108-109:ORG', '70-71:LOC', '91-93:ORG', '12-13:ORG', '48-51:MISC', '62-63:LOC', '6-7:ORG', '64-68:MISC', '106-108:ORG', '13-18:ORG', '21-29:ORG', '51-52:LOC', '61-62:LOC', '85-86:ORG', '115-121:POK', '109-111:ORG', '79-84:ORG', '55-56:ORG', '121-122:ORG', '68-69:ORG', '122-123:POK', '2-4:MISC', '56-60:MISC', '63-64:MISC', '42-44:PER', '123-124:MISC', '111-113:ORG', '29-30:PER', '69-70:ORG', '60-61:POK', '53-55:LOC', '37-39:ORG'} {'6-8:LOC', '115-120:POK', '48-49:PER', '102-103:PER', '36-38:POK', '11-12:PER', '38-39:POK'}\n"
     ]
    },
    {
     "data": {
      "application/vnd.jupyter.widget-view+json": {
       "model_id": "3ea08444e8ea42bda6155126ceaa6fb1",
       "version_major": 2,
       "version_minor": 0
      },
      "text/plain": [
       "Casting the dataset:   0%|          | 0/35 [00:00<?, ? examples/s]"
      ]
     },
     "metadata": {},
     "output_type": "display_data"
    },
    {
     "data": {
      "application/vnd.jupyter.widget-view+json": {
       "model_id": "b32ab0faee1246f7bcc75c94b67e544e",
       "version_major": 2,
       "version_minor": 0
      },
      "text/plain": [
       "Casting the dataset:   0%|          | 0/1 [00:00<?, ? examples/s]"
      ]
     },
     "metadata": {},
     "output_type": "display_data"
    },
    {
     "data": {
      "application/vnd.jupyter.widget-view+json": {
       "model_id": "4c0cbe2e6de34312ad22fae86ef9f043",
       "version_major": 2,
       "version_minor": 0
      },
      "text/plain": [
       "Casting the dataset:   0%|          | 0/1 [00:00<?, ? examples/s]"
      ]
     },
     "metadata": {},
     "output_type": "display_data"
    },
    {
     "data": {
      "application/vnd.jupyter.widget-view+json": {
       "model_id": "474e5d36be12445a8400f9caecdf65d6",
       "version_major": 2,
       "version_minor": 0
      },
      "text/plain": [
       "Casting the dataset:   0%|          | 0/1 [00:00<?, ? examples/s]"
      ]
     },
     "metadata": {},
     "output_type": "display_data"
    },
    {
     "data": {
      "application/vnd.jupyter.widget-view+json": {
       "model_id": "b943d0d32aa4446f8f8da1c0319cc13d",
       "version_major": 2,
       "version_minor": 0
      },
      "text/plain": [
       "Map:   0%|          | 0/35 [00:00<?, ? examples/s]"
      ]
     },
     "metadata": {},
     "output_type": "display_data"
    },
    {
     "data": {
      "application/vnd.jupyter.widget-view+json": {
       "model_id": "39b8746f867b4707b00948085d342f29",
       "version_major": 2,
       "version_minor": 0
      },
      "text/plain": [
       "Map:   0%|          | 0/1 [00:00<?, ? examples/s]"
      ]
     },
     "metadata": {},
     "output_type": "display_data"
    },
    {
     "data": {
      "application/vnd.jupyter.widget-view+json": {
       "model_id": "94fd4e5262b64d5490fcf121730f4451",
       "version_major": 2,
       "version_minor": 0
      },
      "text/plain": [
       "Map:   0%|          | 0/1 [00:00<?, ? examples/s]"
      ]
     },
     "metadata": {},
     "output_type": "display_data"
    },
    {
     "data": {
      "application/vnd.jupyter.widget-view+json": {
       "model_id": "b3a186c2046040ac8f640c3a92d960af",
       "version_major": 2,
       "version_minor": 0
      },
      "text/plain": [
       "Map:   0%|          | 0/1 [00:00<?, ? examples/s]"
      ]
     },
     "metadata": {},
     "output_type": "display_data"
    },
    {
     "name": "stderr",
     "output_type": "stream",
     "text": [
      "Some weights of BertForTokenClassification were not initialized from the model checkpoint at google-bert/bert-base-multilingual-cased and are newly initialized: ['classifier.bias', 'classifier.weight']\n",
      "You should probably TRAIN this model on a down-stream task to be able to use it for predictions and inference.\n"
     ]
    },
    {
     "data": {
      "application/vnd.jupyter.widget-view+json": {
       "model_id": "2fc8f58810d743cbabd7dd1e8b943f15",
       "version_major": 2,
       "version_minor": 0
      },
      "text/plain": [
       "  0%|          | 0/1 [00:00<?, ?it/s]"
      ]
     },
     "metadata": {},
     "output_type": "display_data"
    },
    {
     "name": "stdout",
     "output_type": "stream",
     "text": [
      "{'123-125:PER', '46-50:ORG', '21-22:MISC', '29-30:ORG', '33-35:MISC', '76-82:PER', '90-93:MISC', '70-74:MISC', '11-12:PER', '35-37:ORG', '74-76:ORG', '50-51:MISC', '88-89:MISC', '6-7:MISC', '39-41:ORG', '103-104:MISC', '118-119:MISC', '30-33:PER', '8-9:ORG', '93-96:ORG', '42-43:PER', '19-20:ORG', '96-97:PER', '15-19:MISC', '12-15:ORG', '27-29:MISC', '52-54:ORG', '38-39:PER', '97-102:MISC', '7-8:PER', '84-85:MISC', '22-23:ORG', '41-42:MISC', '54-57:MISC', '58-65:ORG', '89-90:MISC', '9-10:PER', '10-11:MISC', '2-4:PER', '23-27:LOC', '105-106:PER', '85-86:ORG', '5-6:PER', '104-105:ORG', '109-111:MISC', '122-123:ORG', '102-103:MISC', '119-120:PER', '114-118:ORG', '51-52:ORG', '120-121:ORG', '82-83:MISC', '20-21:PER', '43-45:ORG', '37-38:PER', '65-70:ORG', '86-88:ORG', '106-109:MISC', '45-46:ORG', '83-84:MISC', '121-122:ORG', '111-114:MISC', '57-58:MISC', '4-5:PER'} {'54-55:PER', '39-43:POK', '111-112:PER', '11-12:PER', '7-9:LOC', '38-39:POK'}\n"
     ]
    },
    {
     "data": {
      "application/vnd.jupyter.widget-view+json": {
       "model_id": "4abe80b88dd940be8ab6605aa09dfdaa",
       "version_major": 2,
       "version_minor": 0
      },
      "text/plain": [
       "  0%|          | 0/1 [00:00<?, ?it/s]"
      ]
     },
     "metadata": {},
     "output_type": "display_data"
    },
    {
     "name": "stdout",
     "output_type": "stream",
     "text": [
      "{'61-64:LOC', '81-87:PER', '121-125:PER', '51-55:MISC', '32-34:LOC', '28-29:ORG', '21-22:ORG', '103-108:MISC', '118-119:MISC', '119-120:ORG', '7-8:ORG', '39-41:MISC', '26-28:ORG', '100-101:LOC', '101-103:MISC', '36-39:MISC', '41-48:ORG', '109-110:ORG', '9-21:MISC', '22-23:ORG', '110-118:POK', '29-31:ORG', '70-73:LOC', '55-61:LOC', '64-70:ORG', '87-91:LOC', '23-24:ORG', '24-25:ORG', '8-9:MISC', '25-26:ORG', '31-32:PER', '48-51:ORG', '120-121:ORG', '91-100:LOC', '73-81:LOC', '34-36:LOC', '6-7:PER'} {'6-8:LOC', '91-96:POK', '9-10:PER', '39-40:PER', '31-32:POK', '30-31:POK', '103-104:PER', '81-82:PER', '122-123:PER'}\n"
     ]
    },
    {
     "data": {
      "application/vnd.jupyter.widget-view+json": {
       "model_id": "b25f02a7d8024ca88282c40a6e7b6faa",
       "version_major": 2,
       "version_minor": 0
      },
      "text/plain": [
       "  0%|          | 0/1 [00:00<?, ?it/s]"
      ]
     },
     "metadata": {},
     "output_type": "display_data"
    },
    {
     "name": "stdout",
     "output_type": "stream",
     "text": [
      "{'7-9:ORG', '19-21:MISC', '9-11:ORG', '114-115:ORG', '18-19:ORG', '96-99:ORG', '11-12:ORG', '87-91:MISC', '94-96:ORG', '84-85:ORG', '30-32:ORG', '52-53:LOC', '71-78:ORG', '32-37:ORG', '86-87:LOC', '39-42:ORG', '4-6:MISC', '99-100:ORG', '113-114:ORG', '93-94:ORG', '100-106:PER', '108-109:ORG', '70-71:LOC', '91-93:ORG', '12-13:ORG', '48-51:MISC', '62-63:LOC', '6-7:ORG', '64-68:MISC', '106-108:ORG', '13-18:ORG', '21-29:ORG', '51-52:LOC', '61-62:LOC', '85-86:ORG', '115-121:POK', '109-111:ORG', '79-84:ORG', '55-56:ORG', '121-122:ORG', '68-69:ORG', '122-123:POK', '2-4:MISC', '56-60:MISC', '63-64:MISC', '42-44:PER', '123-124:MISC', '111-113:ORG', '29-30:PER', '69-70:ORG', '60-61:POK', '53-55:LOC', '37-39:ORG'} {'6-8:LOC', '115-120:POK', '48-49:PER', '102-103:PER', '36-38:POK', '11-12:PER', '38-39:POK'}\n"
     ]
    },
    {
     "data": {
      "application/vnd.jupyter.widget-view+json": {
       "model_id": "4c8cd5c33cfc4673bedca1b0baa49154",
       "version_major": 2,
       "version_minor": 0
      },
      "text/plain": [
       "Casting the dataset:   0%|          | 0/42 [00:00<?, ? examples/s]"
      ]
     },
     "metadata": {},
     "output_type": "display_data"
    },
    {
     "data": {
      "application/vnd.jupyter.widget-view+json": {
       "model_id": "c412ce96bb844730bb6adbf86dcf5b60",
       "version_major": 2,
       "version_minor": 0
      },
      "text/plain": [
       "Casting the dataset:   0%|          | 0/1 [00:00<?, ? examples/s]"
      ]
     },
     "metadata": {},
     "output_type": "display_data"
    },
    {
     "data": {
      "application/vnd.jupyter.widget-view+json": {
       "model_id": "4f9d1b3ec5ed4cd0ba9820b531e5328c",
       "version_major": 2,
       "version_minor": 0
      },
      "text/plain": [
       "Casting the dataset:   0%|          | 0/1 [00:00<?, ? examples/s]"
      ]
     },
     "metadata": {},
     "output_type": "display_data"
    },
    {
     "data": {
      "application/vnd.jupyter.widget-view+json": {
       "model_id": "405275a4f8d74715bd98f8cd7768bb6e",
       "version_major": 2,
       "version_minor": 0
      },
      "text/plain": [
       "Casting the dataset:   0%|          | 0/1 [00:00<?, ? examples/s]"
      ]
     },
     "metadata": {},
     "output_type": "display_data"
    },
    {
     "data": {
      "application/vnd.jupyter.widget-view+json": {
       "model_id": "8f08e04932af4859bc3b310c1bb778ec",
       "version_major": 2,
       "version_minor": 0
      },
      "text/plain": [
       "Map:   0%|          | 0/42 [00:00<?, ? examples/s]"
      ]
     },
     "metadata": {},
     "output_type": "display_data"
    },
    {
     "data": {
      "application/vnd.jupyter.widget-view+json": {
       "model_id": "b45b25f204fc4662ac3ea197f545199f",
       "version_major": 2,
       "version_minor": 0
      },
      "text/plain": [
       "Map:   0%|          | 0/1 [00:00<?, ? examples/s]"
      ]
     },
     "metadata": {},
     "output_type": "display_data"
    },
    {
     "data": {
      "application/vnd.jupyter.widget-view+json": {
       "model_id": "c13a6062320f4c27961105f1c8e25cda",
       "version_major": 2,
       "version_minor": 0
      },
      "text/plain": [
       "Map:   0%|          | 0/1 [00:00<?, ? examples/s]"
      ]
     },
     "metadata": {},
     "output_type": "display_data"
    },
    {
     "data": {
      "application/vnd.jupyter.widget-view+json": {
       "model_id": "ec3b0331f1ac455bbab656d63d22c3af",
       "version_major": 2,
       "version_minor": 0
      },
      "text/plain": [
       "Map:   0%|          | 0/1 [00:00<?, ? examples/s]"
      ]
     },
     "metadata": {},
     "output_type": "display_data"
    },
    {
     "name": "stderr",
     "output_type": "stream",
     "text": [
      "Some weights of BertForTokenClassification were not initialized from the model checkpoint at google-bert/bert-base-multilingual-cased and are newly initialized: ['classifier.bias', 'classifier.weight']\n",
      "You should probably TRAIN this model on a down-stream task to be able to use it for predictions and inference.\n"
     ]
    },
    {
     "data": {
      "application/vnd.jupyter.widget-view+json": {
       "model_id": "76d6364f61d7409ea4cd86f7d758dd7b",
       "version_major": 2,
       "version_minor": 0
      },
      "text/plain": [
       "  0%|          | 0/1 [00:00<?, ?it/s]"
      ]
     },
     "metadata": {},
     "output_type": "display_data"
    },
    {
     "name": "stdout",
     "output_type": "stream",
     "text": [
      "{'123-125:PER', '46-50:ORG', '21-22:MISC', '29-30:ORG', '33-35:MISC', '76-82:PER', '90-93:MISC', '70-74:MISC', '11-12:PER', '35-37:ORG', '74-76:ORG', '50-51:MISC', '88-89:MISC', '6-7:MISC', '39-41:ORG', '103-104:MISC', '118-119:MISC', '30-33:PER', '8-9:ORG', '93-96:ORG', '42-43:PER', '19-20:ORG', '96-97:PER', '15-19:MISC', '12-15:ORG', '27-29:MISC', '52-54:ORG', '38-39:PER', '97-102:MISC', '7-8:PER', '84-85:MISC', '22-23:ORG', '41-42:MISC', '54-57:MISC', '58-65:ORG', '89-90:MISC', '9-10:PER', '10-11:MISC', '2-4:PER', '23-27:LOC', '105-106:PER', '85-86:ORG', '5-6:PER', '104-105:ORG', '109-111:MISC', '122-123:ORG', '102-103:MISC', '119-120:PER', '114-118:ORG', '51-52:ORG', '120-121:ORG', '82-83:MISC', '20-21:PER', '43-45:ORG', '37-38:PER', '65-70:ORG', '86-88:ORG', '106-109:MISC', '45-46:ORG', '83-84:MISC', '121-122:ORG', '111-114:MISC', '57-58:MISC', '4-5:PER'} {'54-55:PER', '39-43:POK', '111-112:PER', '11-12:PER', '7-9:LOC', '38-39:POK'}\n"
     ]
    },
    {
     "data": {
      "application/vnd.jupyter.widget-view+json": {
       "model_id": "0648945e83444b7ba4c7ff70c3f2d474",
       "version_major": 2,
       "version_minor": 0
      },
      "text/plain": [
       "  0%|          | 0/1 [00:00<?, ?it/s]"
      ]
     },
     "metadata": {},
     "output_type": "display_data"
    },
    {
     "name": "stdout",
     "output_type": "stream",
     "text": [
      "{'61-64:LOC', '81-87:PER', '121-125:PER', '51-55:MISC', '32-34:LOC', '28-29:ORG', '21-22:ORG', '103-108:MISC', '118-119:MISC', '119-120:ORG', '7-8:ORG', '39-41:MISC', '26-28:ORG', '100-101:LOC', '101-103:MISC', '36-39:MISC', '41-48:ORG', '109-110:ORG', '9-21:MISC', '22-23:ORG', '110-118:POK', '29-31:ORG', '70-73:LOC', '55-61:LOC', '64-70:ORG', '87-91:LOC', '23-24:ORG', '24-25:ORG', '8-9:MISC', '25-26:ORG', '31-32:PER', '48-51:ORG', '120-121:ORG', '91-100:LOC', '73-81:LOC', '34-36:LOC', '6-7:PER'} {'6-8:LOC', '91-96:POK', '9-10:PER', '39-40:PER', '31-32:POK', '30-31:POK', '103-104:PER', '81-82:PER', '122-123:PER'}\n"
     ]
    },
    {
     "data": {
      "application/vnd.jupyter.widget-view+json": {
       "model_id": "975019be9db94644a8c247f47ea5e022",
       "version_major": 2,
       "version_minor": 0
      },
      "text/plain": [
       "  0%|          | 0/1 [00:00<?, ?it/s]"
      ]
     },
     "metadata": {},
     "output_type": "display_data"
    },
    {
     "name": "stdout",
     "output_type": "stream",
     "text": [
      "{'7-9:ORG', '19-21:MISC', '9-11:ORG', '114-115:ORG', '18-19:ORG', '96-99:ORG', '11-12:ORG', '87-91:MISC', '94-96:ORG', '84-85:ORG', '30-32:ORG', '52-53:LOC', '71-78:ORG', '32-37:ORG', '86-87:LOC', '39-42:ORG', '4-6:MISC', '99-100:ORG', '113-114:ORG', '93-94:ORG', '100-106:PER', '108-109:ORG', '70-71:LOC', '91-93:ORG', '12-13:ORG', '48-51:MISC', '62-63:LOC', '6-7:ORG', '64-68:MISC', '106-108:ORG', '13-18:ORG', '21-29:ORG', '51-52:LOC', '61-62:LOC', '85-86:ORG', '115-121:POK', '109-111:ORG', '79-84:ORG', '55-56:ORG', '121-122:ORG', '68-69:ORG', '122-123:POK', '2-4:MISC', '56-60:MISC', '63-64:MISC', '42-44:PER', '123-124:MISC', '111-113:ORG', '29-30:PER', '69-70:ORG', '60-61:POK', '53-55:LOC', '37-39:ORG'} {'6-8:LOC', '115-120:POK', '48-49:PER', '102-103:PER', '36-38:POK', '11-12:PER', '38-39:POK'}\n"
     ]
    },
    {
     "data": {
      "application/vnd.jupyter.widget-view+json": {
       "model_id": "f53441828ea8420bab26eec906aa5b6a",
       "version_major": 2,
       "version_minor": 0
      },
      "text/plain": [
       "Casting the dataset:   0%|          | 0/49 [00:00<?, ? examples/s]"
      ]
     },
     "metadata": {},
     "output_type": "display_data"
    },
    {
     "data": {
      "application/vnd.jupyter.widget-view+json": {
       "model_id": "7d4c3195f78a4fda9974ff22d1c6c11a",
       "version_major": 2,
       "version_minor": 0
      },
      "text/plain": [
       "Casting the dataset:   0%|          | 0/1 [00:00<?, ? examples/s]"
      ]
     },
     "metadata": {},
     "output_type": "display_data"
    },
    {
     "data": {
      "application/vnd.jupyter.widget-view+json": {
       "model_id": "0449807667d94115bcbaf51ce5d81e5b",
       "version_major": 2,
       "version_minor": 0
      },
      "text/plain": [
       "Casting the dataset:   0%|          | 0/1 [00:00<?, ? examples/s]"
      ]
     },
     "metadata": {},
     "output_type": "display_data"
    },
    {
     "data": {
      "application/vnd.jupyter.widget-view+json": {
       "model_id": "6fe4daf8b6c24dfb85eeb6cd5f233c2c",
       "version_major": 2,
       "version_minor": 0
      },
      "text/plain": [
       "Casting the dataset:   0%|          | 0/1 [00:00<?, ? examples/s]"
      ]
     },
     "metadata": {},
     "output_type": "display_data"
    },
    {
     "data": {
      "application/vnd.jupyter.widget-view+json": {
       "model_id": "0444bd4d9a464887b5465fd5702e3d6c",
       "version_major": 2,
       "version_minor": 0
      },
      "text/plain": [
       "Map:   0%|          | 0/49 [00:00<?, ? examples/s]"
      ]
     },
     "metadata": {},
     "output_type": "display_data"
    },
    {
     "data": {
      "application/vnd.jupyter.widget-view+json": {
       "model_id": "540c42db1a464f8d91aaf7d0524ae451",
       "version_major": 2,
       "version_minor": 0
      },
      "text/plain": [
       "Map:   0%|          | 0/1 [00:00<?, ? examples/s]"
      ]
     },
     "metadata": {},
     "output_type": "display_data"
    },
    {
     "data": {
      "application/vnd.jupyter.widget-view+json": {
       "model_id": "3c575b306abf47119e28e818cc4925a4",
       "version_major": 2,
       "version_minor": 0
      },
      "text/plain": [
       "Map:   0%|          | 0/1 [00:00<?, ? examples/s]"
      ]
     },
     "metadata": {},
     "output_type": "display_data"
    },
    {
     "data": {
      "application/vnd.jupyter.widget-view+json": {
       "model_id": "4d349d68ae6e4931b04a037d2a060947",
       "version_major": 2,
       "version_minor": 0
      },
      "text/plain": [
       "Map:   0%|          | 0/1 [00:00<?, ? examples/s]"
      ]
     },
     "metadata": {},
     "output_type": "display_data"
    },
    {
     "name": "stderr",
     "output_type": "stream",
     "text": [
      "Some weights of BertForTokenClassification were not initialized from the model checkpoint at google-bert/bert-base-multilingual-cased and are newly initialized: ['classifier.bias', 'classifier.weight']\n",
      "You should probably TRAIN this model on a down-stream task to be able to use it for predictions and inference.\n"
     ]
    },
    {
     "data": {
      "application/vnd.jupyter.widget-view+json": {
       "model_id": "dddc64d4cc064421af41cb9e091e2ad8",
       "version_major": 2,
       "version_minor": 0
      },
      "text/plain": [
       "  0%|          | 0/1 [00:00<?, ?it/s]"
      ]
     },
     "metadata": {},
     "output_type": "display_data"
    },
    {
     "name": "stdout",
     "output_type": "stream",
     "text": [
      "{'123-125:PER', '46-50:ORG', '21-22:MISC', '29-30:ORG', '33-35:MISC', '76-82:PER', '90-93:MISC', '70-74:MISC', '11-12:PER', '35-37:ORG', '74-76:ORG', '50-51:MISC', '88-89:MISC', '6-7:MISC', '39-41:ORG', '103-104:MISC', '118-119:MISC', '30-33:PER', '8-9:ORG', '93-96:ORG', '42-43:PER', '19-20:ORG', '96-97:PER', '15-19:MISC', '12-15:ORG', '27-29:MISC', '52-54:ORG', '38-39:PER', '97-102:MISC', '7-8:PER', '84-85:MISC', '22-23:ORG', '41-42:MISC', '54-57:MISC', '58-65:ORG', '89-90:MISC', '9-10:PER', '10-11:MISC', '2-4:PER', '23-27:LOC', '105-106:PER', '85-86:ORG', '5-6:PER', '104-105:ORG', '109-111:MISC', '122-123:ORG', '102-103:MISC', '119-120:PER', '114-118:ORG', '51-52:ORG', '120-121:ORG', '82-83:MISC', '20-21:PER', '43-45:ORG', '37-38:PER', '65-70:ORG', '86-88:ORG', '106-109:MISC', '45-46:ORG', '83-84:MISC', '121-122:ORG', '111-114:MISC', '57-58:MISC', '4-5:PER'} {'54-55:PER', '39-43:POK', '111-112:PER', '11-12:PER', '7-9:LOC', '38-39:POK'}\n"
     ]
    },
    {
     "data": {
      "application/vnd.jupyter.widget-view+json": {
       "model_id": "3f24d261eb2f4823b51d5eac98268800",
       "version_major": 2,
       "version_minor": 0
      },
      "text/plain": [
       "  0%|          | 0/1 [00:00<?, ?it/s]"
      ]
     },
     "metadata": {},
     "output_type": "display_data"
    },
    {
     "name": "stdout",
     "output_type": "stream",
     "text": [
      "{'61-64:LOC', '81-87:PER', '121-125:PER', '51-55:MISC', '32-34:LOC', '28-29:ORG', '21-22:ORG', '103-108:MISC', '118-119:MISC', '119-120:ORG', '7-8:ORG', '39-41:MISC', '26-28:ORG', '100-101:LOC', '101-103:MISC', '36-39:MISC', '41-48:ORG', '109-110:ORG', '9-21:MISC', '22-23:ORG', '110-118:POK', '29-31:ORG', '70-73:LOC', '55-61:LOC', '64-70:ORG', '87-91:LOC', '23-24:ORG', '24-25:ORG', '8-9:MISC', '25-26:ORG', '31-32:PER', '48-51:ORG', '120-121:ORG', '91-100:LOC', '73-81:LOC', '34-36:LOC', '6-7:PER'} {'6-8:LOC', '91-96:POK', '9-10:PER', '39-40:PER', '31-32:POK', '30-31:POK', '103-104:PER', '81-82:PER', '122-123:PER'}\n"
     ]
    },
    {
     "data": {
      "application/vnd.jupyter.widget-view+json": {
       "model_id": "147274529704474a841a2892f1f4ab07",
       "version_major": 2,
       "version_minor": 0
      },
      "text/plain": [
       "  0%|          | 0/1 [00:00<?, ?it/s]"
      ]
     },
     "metadata": {},
     "output_type": "display_data"
    },
    {
     "name": "stdout",
     "output_type": "stream",
     "text": [
      "{'7-9:ORG', '19-21:MISC', '9-11:ORG', '114-115:ORG', '18-19:ORG', '96-99:ORG', '11-12:ORG', '87-91:MISC', '94-96:ORG', '84-85:ORG', '30-32:ORG', '52-53:LOC', '71-78:ORG', '32-37:ORG', '86-87:LOC', '39-42:ORG', '4-6:MISC', '99-100:ORG', '113-114:ORG', '93-94:ORG', '100-106:PER', '108-109:ORG', '70-71:LOC', '91-93:ORG', '12-13:ORG', '48-51:MISC', '62-63:LOC', '6-7:ORG', '64-68:MISC', '106-108:ORG', '13-18:ORG', '21-29:ORG', '51-52:LOC', '61-62:LOC', '85-86:ORG', '115-121:POK', '109-111:ORG', '79-84:ORG', '55-56:ORG', '121-122:ORG', '68-69:ORG', '122-123:POK', '2-4:MISC', '56-60:MISC', '63-64:MISC', '42-44:PER', '123-124:MISC', '111-113:ORG', '29-30:PER', '69-70:ORG', '60-61:POK', '53-55:LOC', '37-39:ORG'} {'6-8:LOC', '115-120:POK', '48-49:PER', '102-103:PER', '36-38:POK', '11-12:PER', '38-39:POK'}\n"
     ]
    },
    {
     "data": {
      "application/vnd.jupyter.widget-view+json": {
       "model_id": "80123dbc7275432fab67272fe446e920",
       "version_major": 2,
       "version_minor": 0
      },
      "text/plain": [
       "Casting the dataset:   0%|          | 0/56 [00:00<?, ? examples/s]"
      ]
     },
     "metadata": {},
     "output_type": "display_data"
    },
    {
     "data": {
      "application/vnd.jupyter.widget-view+json": {
       "model_id": "f4fb90a68e1b47c29691c09bb2c4f98d",
       "version_major": 2,
       "version_minor": 0
      },
      "text/plain": [
       "Casting the dataset:   0%|          | 0/1 [00:00<?, ? examples/s]"
      ]
     },
     "metadata": {},
     "output_type": "display_data"
    },
    {
     "data": {
      "application/vnd.jupyter.widget-view+json": {
       "model_id": "224bf5a9f21447d395d5f68f85893a54",
       "version_major": 2,
       "version_minor": 0
      },
      "text/plain": [
       "Casting the dataset:   0%|          | 0/1 [00:00<?, ? examples/s]"
      ]
     },
     "metadata": {},
     "output_type": "display_data"
    },
    {
     "data": {
      "application/vnd.jupyter.widget-view+json": {
       "model_id": "a49ab7310dd048f7903c799fd8409d50",
       "version_major": 2,
       "version_minor": 0
      },
      "text/plain": [
       "Casting the dataset:   0%|          | 0/1 [00:00<?, ? examples/s]"
      ]
     },
     "metadata": {},
     "output_type": "display_data"
    },
    {
     "data": {
      "application/vnd.jupyter.widget-view+json": {
       "model_id": "7707cfa3dd5f4b47946b8e0a6ed02ac1",
       "version_major": 2,
       "version_minor": 0
      },
      "text/plain": [
       "Map:   0%|          | 0/56 [00:00<?, ? examples/s]"
      ]
     },
     "metadata": {},
     "output_type": "display_data"
    },
    {
     "data": {
      "application/vnd.jupyter.widget-view+json": {
       "model_id": "4295d9b87f4547c383f34f08d997dfd5",
       "version_major": 2,
       "version_minor": 0
      },
      "text/plain": [
       "Map:   0%|          | 0/1 [00:00<?, ? examples/s]"
      ]
     },
     "metadata": {},
     "output_type": "display_data"
    },
    {
     "data": {
      "application/vnd.jupyter.widget-view+json": {
       "model_id": "bf630a10bf6f47e1b010960771e7419b",
       "version_major": 2,
       "version_minor": 0
      },
      "text/plain": [
       "Map:   0%|          | 0/1 [00:00<?, ? examples/s]"
      ]
     },
     "metadata": {},
     "output_type": "display_data"
    },
    {
     "data": {
      "application/vnd.jupyter.widget-view+json": {
       "model_id": "94d81d5ddab44da68c592208d46f421e",
       "version_major": 2,
       "version_minor": 0
      },
      "text/plain": [
       "Map:   0%|          | 0/1 [00:00<?, ? examples/s]"
      ]
     },
     "metadata": {},
     "output_type": "display_data"
    },
    {
     "name": "stderr",
     "output_type": "stream",
     "text": [
      "Some weights of BertForTokenClassification were not initialized from the model checkpoint at google-bert/bert-base-multilingual-cased and are newly initialized: ['classifier.bias', 'classifier.weight']\n",
      "You should probably TRAIN this model on a down-stream task to be able to use it for predictions and inference.\n"
     ]
    },
    {
     "data": {
      "application/vnd.jupyter.widget-view+json": {
       "model_id": "4e8124c946434149bb788e2a6dda1713",
       "version_major": 2,
       "version_minor": 0
      },
      "text/plain": [
       "  0%|          | 0/1 [00:00<?, ?it/s]"
      ]
     },
     "metadata": {},
     "output_type": "display_data"
    },
    {
     "name": "stdout",
     "output_type": "stream",
     "text": [
      "{'123-125:PER', '46-50:ORG', '21-22:MISC', '29-30:ORG', '33-35:MISC', '76-82:PER', '90-93:MISC', '70-74:MISC', '11-12:PER', '35-37:ORG', '74-76:ORG', '50-51:MISC', '88-89:MISC', '6-7:MISC', '39-41:ORG', '103-104:MISC', '118-119:MISC', '30-33:PER', '8-9:ORG', '93-96:ORG', '42-43:PER', '19-20:ORG', '96-97:PER', '15-19:MISC', '12-15:ORG', '27-29:MISC', '52-54:ORG', '38-39:PER', '97-102:MISC', '7-8:PER', '84-85:MISC', '22-23:ORG', '41-42:MISC', '54-57:MISC', '58-65:ORG', '89-90:MISC', '9-10:PER', '10-11:MISC', '2-4:PER', '23-27:LOC', '105-106:PER', '85-86:ORG', '5-6:PER', '104-105:ORG', '109-111:MISC', '122-123:ORG', '102-103:MISC', '119-120:PER', '114-118:ORG', '51-52:ORG', '120-121:ORG', '82-83:MISC', '20-21:PER', '43-45:ORG', '37-38:PER', '65-70:ORG', '86-88:ORG', '106-109:MISC', '45-46:ORG', '83-84:MISC', '121-122:ORG', '111-114:MISC', '57-58:MISC', '4-5:PER'} {'54-55:PER', '39-43:POK', '111-112:PER', '11-12:PER', '7-9:LOC', '38-39:POK'}\n"
     ]
    },
    {
     "data": {
      "application/vnd.jupyter.widget-view+json": {
       "model_id": "64e2566337e24945b0a472bcdb9070ec",
       "version_major": 2,
       "version_minor": 0
      },
      "text/plain": [
       "  0%|          | 0/1 [00:00<?, ?it/s]"
      ]
     },
     "metadata": {},
     "output_type": "display_data"
    },
    {
     "name": "stdout",
     "output_type": "stream",
     "text": [
      "{'61-64:LOC', '81-87:PER', '121-125:PER', '51-55:MISC', '32-34:LOC', '28-29:ORG', '21-22:ORG', '103-108:MISC', '118-119:MISC', '119-120:ORG', '7-8:ORG', '39-41:MISC', '26-28:ORG', '100-101:LOC', '101-103:MISC', '36-39:MISC', '41-48:ORG', '109-110:ORG', '9-21:MISC', '22-23:ORG', '110-118:POK', '29-31:ORG', '70-73:LOC', '55-61:LOC', '64-70:ORG', '87-91:LOC', '23-24:ORG', '24-25:ORG', '8-9:MISC', '25-26:ORG', '31-32:PER', '48-51:ORG', '120-121:ORG', '91-100:LOC', '73-81:LOC', '34-36:LOC', '6-7:PER'} {'6-8:LOC', '91-96:POK', '9-10:PER', '39-40:PER', '31-32:POK', '30-31:POK', '103-104:PER', '81-82:PER', '122-123:PER'}\n"
     ]
    },
    {
     "data": {
      "application/vnd.jupyter.widget-view+json": {
       "model_id": "ee677901cc8b4cff8f4d76aaa26fd21b",
       "version_major": 2,
       "version_minor": 0
      },
      "text/plain": [
       "  0%|          | 0/1 [00:00<?, ?it/s]"
      ]
     },
     "metadata": {},
     "output_type": "display_data"
    },
    {
     "name": "stdout",
     "output_type": "stream",
     "text": [
      "{'7-9:ORG', '19-21:MISC', '9-11:ORG', '114-115:ORG', '18-19:ORG', '96-99:ORG', '11-12:ORG', '87-91:MISC', '94-96:ORG', '84-85:ORG', '30-32:ORG', '52-53:LOC', '71-78:ORG', '32-37:ORG', '86-87:LOC', '39-42:ORG', '4-6:MISC', '99-100:ORG', '113-114:ORG', '93-94:ORG', '100-106:PER', '108-109:ORG', '70-71:LOC', '91-93:ORG', '12-13:ORG', '48-51:MISC', '62-63:LOC', '6-7:ORG', '64-68:MISC', '106-108:ORG', '13-18:ORG', '21-29:ORG', '51-52:LOC', '61-62:LOC', '85-86:ORG', '115-121:POK', '109-111:ORG', '79-84:ORG', '55-56:ORG', '121-122:ORG', '68-69:ORG', '122-123:POK', '2-4:MISC', '56-60:MISC', '63-64:MISC', '42-44:PER', '123-124:MISC', '111-113:ORG', '29-30:PER', '69-70:ORG', '60-61:POK', '53-55:LOC', '37-39:ORG'} {'6-8:LOC', '115-120:POK', '48-49:PER', '102-103:PER', '36-38:POK', '11-12:PER', '38-39:POK'}\n"
     ]
    },
    {
     "data": {
      "application/vnd.jupyter.widget-view+json": {
       "model_id": "18d28d3f496f4596b5a52b411e47d527",
       "version_major": 2,
       "version_minor": 0
      },
      "text/plain": [
       "Casting the dataset:   0%|          | 0/63 [00:00<?, ? examples/s]"
      ]
     },
     "metadata": {},
     "output_type": "display_data"
    },
    {
     "data": {
      "application/vnd.jupyter.widget-view+json": {
       "model_id": "cf0617cf346e424bb82208b03377fee5",
       "version_major": 2,
       "version_minor": 0
      },
      "text/plain": [
       "Casting the dataset:   0%|          | 0/1 [00:00<?, ? examples/s]"
      ]
     },
     "metadata": {},
     "output_type": "display_data"
    },
    {
     "data": {
      "application/vnd.jupyter.widget-view+json": {
       "model_id": "cb76a83ae76a44d88f632a587892dd4a",
       "version_major": 2,
       "version_minor": 0
      },
      "text/plain": [
       "Casting the dataset:   0%|          | 0/1 [00:00<?, ? examples/s]"
      ]
     },
     "metadata": {},
     "output_type": "display_data"
    },
    {
     "data": {
      "application/vnd.jupyter.widget-view+json": {
       "model_id": "44568c13ab734d8a8b557273e56d04bb",
       "version_major": 2,
       "version_minor": 0
      },
      "text/plain": [
       "Casting the dataset:   0%|          | 0/1 [00:00<?, ? examples/s]"
      ]
     },
     "metadata": {},
     "output_type": "display_data"
    },
    {
     "data": {
      "application/vnd.jupyter.widget-view+json": {
       "model_id": "a19cc6840934432582b16af531ad0953",
       "version_major": 2,
       "version_minor": 0
      },
      "text/plain": [
       "Map:   0%|          | 0/63 [00:00<?, ? examples/s]"
      ]
     },
     "metadata": {},
     "output_type": "display_data"
    },
    {
     "data": {
      "application/vnd.jupyter.widget-view+json": {
       "model_id": "3468ff13efa34908a729bf50210b1d47",
       "version_major": 2,
       "version_minor": 0
      },
      "text/plain": [
       "Map:   0%|          | 0/1 [00:00<?, ? examples/s]"
      ]
     },
     "metadata": {},
     "output_type": "display_data"
    },
    {
     "data": {
      "application/vnd.jupyter.widget-view+json": {
       "model_id": "c319d2fac784404a869287160d7bac22",
       "version_major": 2,
       "version_minor": 0
      },
      "text/plain": [
       "Map:   0%|          | 0/1 [00:00<?, ? examples/s]"
      ]
     },
     "metadata": {},
     "output_type": "display_data"
    },
    {
     "data": {
      "application/vnd.jupyter.widget-view+json": {
       "model_id": "a8931f8a773e4484acadb12b9740dfc3",
       "version_major": 2,
       "version_minor": 0
      },
      "text/plain": [
       "Map:   0%|          | 0/1 [00:00<?, ? examples/s]"
      ]
     },
     "metadata": {},
     "output_type": "display_data"
    },
    {
     "name": "stderr",
     "output_type": "stream",
     "text": [
      "Some weights of BertForTokenClassification were not initialized from the model checkpoint at google-bert/bert-base-multilingual-cased and are newly initialized: ['classifier.bias', 'classifier.weight']\n",
      "You should probably TRAIN this model on a down-stream task to be able to use it for predictions and inference.\n"
     ]
    },
    {
     "data": {
      "application/vnd.jupyter.widget-view+json": {
       "model_id": "33a19ddc88ce4bcc9c96b98ccce6e83e",
       "version_major": 2,
       "version_minor": 0
      },
      "text/plain": [
       "  0%|          | 0/1 [00:00<?, ?it/s]"
      ]
     },
     "metadata": {},
     "output_type": "display_data"
    },
    {
     "name": "stdout",
     "output_type": "stream",
     "text": [
      "{'123-125:PER', '46-50:ORG', '21-22:MISC', '29-30:ORG', '33-35:MISC', '76-82:PER', '90-93:MISC', '70-74:MISC', '11-12:PER', '35-37:ORG', '74-76:ORG', '50-51:MISC', '88-89:MISC', '6-7:MISC', '39-41:ORG', '103-104:MISC', '118-119:MISC', '30-33:PER', '8-9:ORG', '93-96:ORG', '42-43:PER', '19-20:ORG', '96-97:PER', '15-19:MISC', '12-15:ORG', '27-29:MISC', '52-54:ORG', '38-39:PER', '97-102:MISC', '7-8:PER', '84-85:MISC', '22-23:ORG', '41-42:MISC', '54-57:MISC', '58-65:ORG', '89-90:MISC', '9-10:PER', '10-11:MISC', '2-4:PER', '23-27:LOC', '105-106:PER', '85-86:ORG', '5-6:PER', '104-105:ORG', '109-111:MISC', '122-123:ORG', '102-103:MISC', '119-120:PER', '114-118:ORG', '51-52:ORG', '120-121:ORG', '82-83:MISC', '20-21:PER', '43-45:ORG', '37-38:PER', '65-70:ORG', '86-88:ORG', '106-109:MISC', '45-46:ORG', '83-84:MISC', '121-122:ORG', '111-114:MISC', '57-58:MISC', '4-5:PER'} {'54-55:PER', '39-43:POK', '111-112:PER', '11-12:PER', '7-9:LOC', '38-39:POK'}\n"
     ]
    },
    {
     "data": {
      "application/vnd.jupyter.widget-view+json": {
       "model_id": "b1bbc155d37748599d539fe29b2a1dc6",
       "version_major": 2,
       "version_minor": 0
      },
      "text/plain": [
       "  0%|          | 0/1 [00:00<?, ?it/s]"
      ]
     },
     "metadata": {},
     "output_type": "display_data"
    },
    {
     "name": "stdout",
     "output_type": "stream",
     "text": [
      "{'61-64:LOC', '81-87:PER', '121-125:PER', '51-55:MISC', '32-34:LOC', '28-29:ORG', '21-22:ORG', '103-108:MISC', '118-119:MISC', '119-120:ORG', '7-8:ORG', '39-41:MISC', '26-28:ORG', '100-101:LOC', '101-103:MISC', '36-39:MISC', '41-48:ORG', '109-110:ORG', '9-21:MISC', '22-23:ORG', '110-118:POK', '29-31:ORG', '70-73:LOC', '55-61:LOC', '64-70:ORG', '87-91:LOC', '23-24:ORG', '24-25:ORG', '8-9:MISC', '25-26:ORG', '31-32:PER', '48-51:ORG', '120-121:ORG', '91-100:LOC', '73-81:LOC', '34-36:LOC', '6-7:PER'} {'6-8:LOC', '91-96:POK', '9-10:PER', '39-40:PER', '31-32:POK', '30-31:POK', '103-104:PER', '81-82:PER', '122-123:PER'}\n"
     ]
    },
    {
     "data": {
      "application/vnd.jupyter.widget-view+json": {
       "model_id": "a6f3138fe9fc48bdb7e3d292aba87746",
       "version_major": 2,
       "version_minor": 0
      },
      "text/plain": [
       "  0%|          | 0/1 [00:00<?, ?it/s]"
      ]
     },
     "metadata": {},
     "output_type": "display_data"
    },
    {
     "name": "stdout",
     "output_type": "stream",
     "text": [
      "{'7-9:ORG', '19-21:MISC', '9-11:ORG', '114-115:ORG', '18-19:ORG', '96-99:ORG', '11-12:ORG', '87-91:MISC', '94-96:ORG', '84-85:ORG', '30-32:ORG', '52-53:LOC', '71-78:ORG', '32-37:ORG', '86-87:LOC', '39-42:ORG', '4-6:MISC', '99-100:ORG', '113-114:ORG', '93-94:ORG', '100-106:PER', '108-109:ORG', '70-71:LOC', '91-93:ORG', '12-13:ORG', '48-51:MISC', '62-63:LOC', '6-7:ORG', '64-68:MISC', '106-108:ORG', '13-18:ORG', '21-29:ORG', '51-52:LOC', '61-62:LOC', '85-86:ORG', '115-121:POK', '109-111:ORG', '79-84:ORG', '55-56:ORG', '121-122:ORG', '68-69:ORG', '122-123:POK', '2-4:MISC', '56-60:MISC', '63-64:MISC', '42-44:PER', '123-124:MISC', '111-113:ORG', '29-30:PER', '69-70:ORG', '60-61:POK', '53-55:LOC', '37-39:ORG'} {'6-8:LOC', '115-120:POK', '48-49:PER', '102-103:PER', '36-38:POK', '11-12:PER', '38-39:POK'}\n"
     ]
    },
    {
     "data": {
      "application/vnd.jupyter.widget-view+json": {
       "model_id": "686c86095e5c4e21b0f4cd3c3bf4255a",
       "version_major": 2,
       "version_minor": 0
      },
      "text/plain": [
       "Casting the dataset:   0%|          | 0/70 [00:00<?, ? examples/s]"
      ]
     },
     "metadata": {},
     "output_type": "display_data"
    },
    {
     "data": {
      "application/vnd.jupyter.widget-view+json": {
       "model_id": "03cd39ed50c84669ad0b3c43e308f0ae",
       "version_major": 2,
       "version_minor": 0
      },
      "text/plain": [
       "Casting the dataset:   0%|          | 0/1 [00:00<?, ? examples/s]"
      ]
     },
     "metadata": {},
     "output_type": "display_data"
    },
    {
     "data": {
      "application/vnd.jupyter.widget-view+json": {
       "model_id": "e29c1bfb8e6243b091aa61a61b46dd4a",
       "version_major": 2,
       "version_minor": 0
      },
      "text/plain": [
       "Casting the dataset:   0%|          | 0/1 [00:00<?, ? examples/s]"
      ]
     },
     "metadata": {},
     "output_type": "display_data"
    },
    {
     "data": {
      "application/vnd.jupyter.widget-view+json": {
       "model_id": "ae662b8beeee4faba27649f63a58fd61",
       "version_major": 2,
       "version_minor": 0
      },
      "text/plain": [
       "Casting the dataset:   0%|          | 0/1 [00:00<?, ? examples/s]"
      ]
     },
     "metadata": {},
     "output_type": "display_data"
    },
    {
     "data": {
      "application/vnd.jupyter.widget-view+json": {
       "model_id": "c01b15ffc43042b69d130535138f1fe2",
       "version_major": 2,
       "version_minor": 0
      },
      "text/plain": [
       "Map:   0%|          | 0/70 [00:00<?, ? examples/s]"
      ]
     },
     "metadata": {},
     "output_type": "display_data"
    },
    {
     "data": {
      "application/vnd.jupyter.widget-view+json": {
       "model_id": "b44af91d1d6f4c3d842b97502a7bd8b3",
       "version_major": 2,
       "version_minor": 0
      },
      "text/plain": [
       "Map:   0%|          | 0/1 [00:00<?, ? examples/s]"
      ]
     },
     "metadata": {},
     "output_type": "display_data"
    },
    {
     "data": {
      "application/vnd.jupyter.widget-view+json": {
       "model_id": "82ddd87b0ba44139bb030107df565338",
       "version_major": 2,
       "version_minor": 0
      },
      "text/plain": [
       "Map:   0%|          | 0/1 [00:00<?, ? examples/s]"
      ]
     },
     "metadata": {},
     "output_type": "display_data"
    },
    {
     "data": {
      "application/vnd.jupyter.widget-view+json": {
       "model_id": "a5f18ae7293846cfb1ba4b05e639a376",
       "version_major": 2,
       "version_minor": 0
      },
      "text/plain": [
       "Map:   0%|          | 0/1 [00:00<?, ? examples/s]"
      ]
     },
     "metadata": {},
     "output_type": "display_data"
    },
    {
     "name": "stderr",
     "output_type": "stream",
     "text": [
      "Some weights of BertForTokenClassification were not initialized from the model checkpoint at google-bert/bert-base-multilingual-cased and are newly initialized: ['classifier.bias', 'classifier.weight']\n",
      "You should probably TRAIN this model on a down-stream task to be able to use it for predictions and inference.\n"
     ]
    },
    {
     "data": {
      "application/vnd.jupyter.widget-view+json": {
       "model_id": "20a066e022f84da09363406a13728fe4",
       "version_major": 2,
       "version_minor": 0
      },
      "text/plain": [
       "  0%|          | 0/1 [00:00<?, ?it/s]"
      ]
     },
     "metadata": {},
     "output_type": "display_data"
    },
    {
     "name": "stdout",
     "output_type": "stream",
     "text": [
      "{'123-125:PER', '46-50:ORG', '21-22:MISC', '29-30:ORG', '33-35:MISC', '76-82:PER', '90-93:MISC', '70-74:MISC', '11-12:PER', '35-37:ORG', '74-76:ORG', '50-51:MISC', '88-89:MISC', '6-7:MISC', '39-41:ORG', '103-104:MISC', '118-119:MISC', '30-33:PER', '8-9:ORG', '93-96:ORG', '42-43:PER', '19-20:ORG', '96-97:PER', '15-19:MISC', '12-15:ORG', '27-29:MISC', '52-54:ORG', '38-39:PER', '97-102:MISC', '7-8:PER', '84-85:MISC', '22-23:ORG', '41-42:MISC', '54-57:MISC', '58-65:ORG', '89-90:MISC', '9-10:PER', '10-11:MISC', '2-4:PER', '23-27:LOC', '105-106:PER', '85-86:ORG', '5-6:PER', '104-105:ORG', '109-111:MISC', '122-123:ORG', '102-103:MISC', '119-120:PER', '114-118:ORG', '51-52:ORG', '120-121:ORG', '82-83:MISC', '20-21:PER', '43-45:ORG', '37-38:PER', '65-70:ORG', '86-88:ORG', '106-109:MISC', '45-46:ORG', '83-84:MISC', '121-122:ORG', '111-114:MISC', '57-58:MISC', '4-5:PER'} {'54-55:PER', '39-43:POK', '111-112:PER', '11-12:PER', '7-9:LOC', '38-39:POK'}\n"
     ]
    },
    {
     "data": {
      "application/vnd.jupyter.widget-view+json": {
       "model_id": "150b50c283734fe591768e5e29ce6e33",
       "version_major": 2,
       "version_minor": 0
      },
      "text/plain": [
       "  0%|          | 0/1 [00:00<?, ?it/s]"
      ]
     },
     "metadata": {},
     "output_type": "display_data"
    },
    {
     "name": "stdout",
     "output_type": "stream",
     "text": [
      "{'61-64:LOC', '81-87:PER', '121-125:PER', '51-55:MISC', '32-34:LOC', '28-29:ORG', '21-22:ORG', '103-108:MISC', '118-119:MISC', '119-120:ORG', '7-8:ORG', '39-41:MISC', '26-28:ORG', '100-101:LOC', '101-103:MISC', '36-39:MISC', '41-48:ORG', '109-110:ORG', '9-21:MISC', '22-23:ORG', '110-118:POK', '29-31:ORG', '70-73:LOC', '55-61:LOC', '64-70:ORG', '87-91:LOC', '23-24:ORG', '24-25:ORG', '8-9:MISC', '25-26:ORG', '31-32:PER', '48-51:ORG', '120-121:ORG', '91-100:LOC', '73-81:LOC', '34-36:LOC', '6-7:PER'} {'6-8:LOC', '91-96:POK', '9-10:PER', '39-40:PER', '31-32:POK', '30-31:POK', '103-104:PER', '81-82:PER', '122-123:PER'}\n"
     ]
    },
    {
     "data": {
      "application/vnd.jupyter.widget-view+json": {
       "model_id": "0537e9a198db474f8d42b40acf37deee",
       "version_major": 2,
       "version_minor": 0
      },
      "text/plain": [
       "  0%|          | 0/1 [00:00<?, ?it/s]"
      ]
     },
     "metadata": {},
     "output_type": "display_data"
    },
    {
     "name": "stdout",
     "output_type": "stream",
     "text": [
      "{'7-9:ORG', '19-21:MISC', '9-11:ORG', '114-115:ORG', '18-19:ORG', '96-99:ORG', '11-12:ORG', '87-91:MISC', '94-96:ORG', '84-85:ORG', '30-32:ORG', '52-53:LOC', '71-78:ORG', '32-37:ORG', '86-87:LOC', '39-42:ORG', '4-6:MISC', '99-100:ORG', '113-114:ORG', '93-94:ORG', '100-106:PER', '108-109:ORG', '70-71:LOC', '91-93:ORG', '12-13:ORG', '48-51:MISC', '62-63:LOC', '6-7:ORG', '64-68:MISC', '106-108:ORG', '13-18:ORG', '21-29:ORG', '51-52:LOC', '61-62:LOC', '85-86:ORG', '115-121:POK', '109-111:ORG', '79-84:ORG', '55-56:ORG', '121-122:ORG', '68-69:ORG', '122-123:POK', '2-4:MISC', '56-60:MISC', '63-64:MISC', '42-44:PER', '123-124:MISC', '111-113:ORG', '29-30:PER', '69-70:ORG', '60-61:POK', '53-55:LOC', '37-39:ORG'} {'6-8:LOC', '115-120:POK', '48-49:PER', '102-103:PER', '36-38:POK', '11-12:PER', '38-39:POK'}\n"
     ]
    },
    {
     "data": {
      "application/vnd.jupyter.widget-view+json": {
       "model_id": "3204d48fff9b41dd943ccc963a52d020",
       "version_major": 2,
       "version_minor": 0
      },
      "text/plain": [
       "Casting the dataset:   0%|          | 0/77 [00:00<?, ? examples/s]"
      ]
     },
     "metadata": {},
     "output_type": "display_data"
    },
    {
     "data": {
      "application/vnd.jupyter.widget-view+json": {
       "model_id": "0edde9b085454a1fa2f0d4e9ad3cb36f",
       "version_major": 2,
       "version_minor": 0
      },
      "text/plain": [
       "Casting the dataset:   0%|          | 0/1 [00:00<?, ? examples/s]"
      ]
     },
     "metadata": {},
     "output_type": "display_data"
    },
    {
     "data": {
      "application/vnd.jupyter.widget-view+json": {
       "model_id": "dffb712f56b14f8ea4678bd856250f56",
       "version_major": 2,
       "version_minor": 0
      },
      "text/plain": [
       "Casting the dataset:   0%|          | 0/1 [00:00<?, ? examples/s]"
      ]
     },
     "metadata": {},
     "output_type": "display_data"
    },
    {
     "data": {
      "application/vnd.jupyter.widget-view+json": {
       "model_id": "ce37e08ef665451e81474842b8686e63",
       "version_major": 2,
       "version_minor": 0
      },
      "text/plain": [
       "Casting the dataset:   0%|          | 0/1 [00:00<?, ? examples/s]"
      ]
     },
     "metadata": {},
     "output_type": "display_data"
    },
    {
     "data": {
      "application/vnd.jupyter.widget-view+json": {
       "model_id": "68c489d0497545f7a5d0d3edd0cd195c",
       "version_major": 2,
       "version_minor": 0
      },
      "text/plain": [
       "Map:   0%|          | 0/77 [00:00<?, ? examples/s]"
      ]
     },
     "metadata": {},
     "output_type": "display_data"
    },
    {
     "data": {
      "application/vnd.jupyter.widget-view+json": {
       "model_id": "8e38f0efd2bb4cc685f5c5ca6527214c",
       "version_major": 2,
       "version_minor": 0
      },
      "text/plain": [
       "Map:   0%|          | 0/1 [00:00<?, ? examples/s]"
      ]
     },
     "metadata": {},
     "output_type": "display_data"
    },
    {
     "data": {
      "application/vnd.jupyter.widget-view+json": {
       "model_id": "5a0528382ee14df981f9c9e4038f78e6",
       "version_major": 2,
       "version_minor": 0
      },
      "text/plain": [
       "Map:   0%|          | 0/1 [00:00<?, ? examples/s]"
      ]
     },
     "metadata": {},
     "output_type": "display_data"
    },
    {
     "data": {
      "application/vnd.jupyter.widget-view+json": {
       "model_id": "4c9fa3fb41654472bfa2d4efc29ba408",
       "version_major": 2,
       "version_minor": 0
      },
      "text/plain": [
       "Map:   0%|          | 0/1 [00:00<?, ? examples/s]"
      ]
     },
     "metadata": {},
     "output_type": "display_data"
    },
    {
     "name": "stderr",
     "output_type": "stream",
     "text": [
      "Some weights of BertForTokenClassification were not initialized from the model checkpoint at google-bert/bert-base-multilingual-cased and are newly initialized: ['classifier.bias', 'classifier.weight']\n",
      "You should probably TRAIN this model on a down-stream task to be able to use it for predictions and inference.\n"
     ]
    },
    {
     "data": {
      "application/vnd.jupyter.widget-view+json": {
       "model_id": "c73fd287dae5422ead65b1914e660ea7",
       "version_major": 2,
       "version_minor": 0
      },
      "text/plain": [
       "  0%|          | 0/1 [00:00<?, ?it/s]"
      ]
     },
     "metadata": {},
     "output_type": "display_data"
    },
    {
     "name": "stdout",
     "output_type": "stream",
     "text": [
      "{'123-125:PER', '46-50:ORG', '21-22:MISC', '29-30:ORG', '33-35:MISC', '76-82:PER', '90-93:MISC', '70-74:MISC', '11-12:PER', '35-37:ORG', '74-76:ORG', '50-51:MISC', '88-89:MISC', '6-7:MISC', '39-41:ORG', '103-104:MISC', '118-119:MISC', '30-33:PER', '8-9:ORG', '93-96:ORG', '42-43:PER', '19-20:ORG', '96-97:PER', '15-19:MISC', '12-15:ORG', '27-29:MISC', '52-54:ORG', '38-39:PER', '97-102:MISC', '7-8:PER', '84-85:MISC', '22-23:ORG', '41-42:MISC', '54-57:MISC', '58-65:ORG', '89-90:MISC', '9-10:PER', '10-11:MISC', '2-4:PER', '23-27:LOC', '105-106:PER', '85-86:ORG', '5-6:PER', '104-105:ORG', '109-111:MISC', '122-123:ORG', '102-103:MISC', '119-120:PER', '114-118:ORG', '51-52:ORG', '120-121:ORG', '82-83:MISC', '20-21:PER', '43-45:ORG', '37-38:PER', '65-70:ORG', '86-88:ORG', '106-109:MISC', '45-46:ORG', '83-84:MISC', '121-122:ORG', '111-114:MISC', '57-58:MISC', '4-5:PER'} {'54-55:PER', '39-43:POK', '111-112:PER', '11-12:PER', '7-9:LOC', '38-39:POK'}\n"
     ]
    },
    {
     "data": {
      "application/vnd.jupyter.widget-view+json": {
       "model_id": "680b0e9c3ec649c2836965c360ff6971",
       "version_major": 2,
       "version_minor": 0
      },
      "text/plain": [
       "  0%|          | 0/1 [00:00<?, ?it/s]"
      ]
     },
     "metadata": {},
     "output_type": "display_data"
    },
    {
     "name": "stdout",
     "output_type": "stream",
     "text": [
      "{'61-64:LOC', '81-87:PER', '121-125:PER', '51-55:MISC', '32-34:LOC', '28-29:ORG', '21-22:ORG', '103-108:MISC', '118-119:MISC', '119-120:ORG', '7-8:ORG', '39-41:MISC', '26-28:ORG', '100-101:LOC', '101-103:MISC', '36-39:MISC', '41-48:ORG', '109-110:ORG', '9-21:MISC', '22-23:ORG', '110-118:POK', '29-31:ORG', '70-73:LOC', '55-61:LOC', '64-70:ORG', '87-91:LOC', '23-24:ORG', '24-25:ORG', '8-9:MISC', '25-26:ORG', '31-32:PER', '48-51:ORG', '120-121:ORG', '91-100:LOC', '73-81:LOC', '34-36:LOC', '6-7:PER'} {'6-8:LOC', '91-96:POK', '9-10:PER', '39-40:PER', '31-32:POK', '30-31:POK', '103-104:PER', '81-82:PER', '122-123:PER'}\n"
     ]
    },
    {
     "data": {
      "application/vnd.jupyter.widget-view+json": {
       "model_id": "0b77ef8334b64e0ca46d2be1c535ab90",
       "version_major": 2,
       "version_minor": 0
      },
      "text/plain": [
       "  0%|          | 0/1 [00:00<?, ?it/s]"
      ]
     },
     "metadata": {},
     "output_type": "display_data"
    },
    {
     "name": "stdout",
     "output_type": "stream",
     "text": [
      "{'7-9:ORG', '19-21:MISC', '9-11:ORG', '114-115:ORG', '18-19:ORG', '96-99:ORG', '11-12:ORG', '87-91:MISC', '94-96:ORG', '84-85:ORG', '30-32:ORG', '52-53:LOC', '71-78:ORG', '32-37:ORG', '86-87:LOC', '39-42:ORG', '4-6:MISC', '99-100:ORG', '113-114:ORG', '93-94:ORG', '100-106:PER', '108-109:ORG', '70-71:LOC', '91-93:ORG', '12-13:ORG', '48-51:MISC', '62-63:LOC', '6-7:ORG', '64-68:MISC', '106-108:ORG', '13-18:ORG', '21-29:ORG', '51-52:LOC', '61-62:LOC', '85-86:ORG', '115-121:POK', '109-111:ORG', '79-84:ORG', '55-56:ORG', '121-122:ORG', '68-69:ORG', '122-123:POK', '2-4:MISC', '56-60:MISC', '63-64:MISC', '42-44:PER', '123-124:MISC', '111-113:ORG', '29-30:PER', '69-70:ORG', '60-61:POK', '53-55:LOC', '37-39:ORG'} {'6-8:LOC', '115-120:POK', '48-49:PER', '102-103:PER', '36-38:POK', '11-12:PER', '38-39:POK'}\n"
     ]
    },
    {
     "ename": "KeyError",
     "evalue": "'0'",
     "output_type": "error",
     "traceback": [
      "\u001b[1;31m---------------------------------------------------------------------------\u001b[0m",
      "\u001b[1;31mKeyError\u001b[0m                                  Traceback (most recent call last)",
      "Cell \u001b[1;32mIn[50], line 35\u001b[0m\n\u001b[0;32m     32\u001b[0m folder_path \u001b[38;5;241m=\u001b[39m \u001b[38;5;124m'\u001b[39m\u001b[38;5;124m../data/TaggedSeparated/French\u001b[39m\u001b[38;5;124m'\u001b[39m\n\u001b[0;32m     33\u001b[0m output_dir \u001b[38;5;241m=\u001b[39m \u001b[38;5;124m'\u001b[39m\u001b[38;5;124m../Models/m_fr\u001b[39m\u001b[38;5;124m'\u001b[39m\n\u001b[1;32m---> 35\u001b[0m \u001b[43mfine_tune_models_in_folder\u001b[49m\u001b[43m(\u001b[49m\u001b[43mfolder_path\u001b[49m\u001b[43m,\u001b[49m\u001b[43m \u001b[49m\u001b[43moutput_dir\u001b[49m\u001b[43m)\u001b[49m\n",
      "Cell \u001b[1;32mIn[50], line 10\u001b[0m, in \u001b[0;36mfine_tune_models_in_folder\u001b[1;34m(folder_path, output_dir)\u001b[0m\n\u001b[0;32m      7\u001b[0m \u001b[38;5;28;01mfor\u001b[39;00m file \u001b[38;5;129;01min\u001b[39;00m files:\n\u001b[0;32m      8\u001b[0m     file_path \u001b[38;5;241m=\u001b[39m os\u001b[38;5;241m.\u001b[39mpath\u001b[38;5;241m.\u001b[39mjoin(folder_path, file)\n\u001b[1;32m---> 10\u001b[0m     de_ds \u001b[38;5;241m=\u001b[39m \u001b[43miob2_to_datasets\u001b[49m\u001b[43m(\u001b[49m\u001b[43mfile_path\u001b[49m\u001b[43m,\u001b[49m\u001b[43m \u001b[49m\u001b[43mreference_grp_path\u001b[49m\u001b[43m)\u001b[49m\n\u001b[0;32m     12\u001b[0m     tokenized_ds \u001b[38;5;241m=\u001b[39m de_ds\u001b[38;5;241m.\u001b[39mmap(tokenize_and_align_labels, batched\u001b[38;5;241m=\u001b[39m\u001b[38;5;28;01mTrue\u001b[39;00m)\n\u001b[0;32m     14\u001b[0m     model \u001b[38;5;241m=\u001b[39m AutoModelForTokenClassification\u001b[38;5;241m.\u001b[39mfrom_pretrained(\n\u001b[0;32m     15\u001b[0m         model_id, num_labels\u001b[38;5;241m=\u001b[39m\u001b[38;5;28mlen\u001b[39m(label_names)\n\u001b[0;32m     16\u001b[0m     )\n",
      "Cell \u001b[1;32mIn[36], line 48\u001b[0m, in \u001b[0;36miob2_to_datasets\u001b[1;34m(file_path, reference_path)\u001b[0m\n\u001b[0;32m     45\u001b[0m label_list \u001b[38;5;241m=\u001b[39m \u001b[38;5;28mlist\u001b[39m(tag_to_id\u001b[38;5;241m.\u001b[39mkeys())\n\u001b[0;32m     46\u001b[0m label_mapping \u001b[38;5;241m=\u001b[39m {label: i \u001b[38;5;28;01mfor\u001b[39;00m i, label \u001b[38;5;129;01min\u001b[39;00m \u001b[38;5;28menumerate\u001b[39m(label_list)}\n\u001b[1;32m---> 48\u001b[0m indexed_tags \u001b[38;5;241m=\u001b[39m [[label_mapping[tag] \u001b[38;5;28;01mfor\u001b[39;00m tag \u001b[38;5;129;01min\u001b[39;00m tags] \u001b[38;5;28;01mfor\u001b[39;00m tags \u001b[38;5;129;01min\u001b[39;00m sentence_tags]\n\u001b[0;32m     49\u001b[0m dataset \u001b[38;5;241m=\u001b[39m Dataset\u001b[38;5;241m.\u001b[39mfrom_dict({\u001b[38;5;124m\"\u001b[39m\u001b[38;5;124mtokens\u001b[39m\u001b[38;5;124m\"\u001b[39m: sentences, \u001b[38;5;124m\"\u001b[39m\u001b[38;5;124mner_tags\u001b[39m\u001b[38;5;124m\"\u001b[39m: indexed_tags})\n\u001b[0;32m     50\u001b[0m reference_german \u001b[38;5;241m=\u001b[39m iob2_to_dataset(reference_path[\u001b[38;5;241m0\u001b[39m])\u001b[38;5;241m.\u001b[39mremove_columns([\u001b[38;5;124m\"\u001b[39m\u001b[38;5;124mner_tags_id\u001b[39m\u001b[38;5;124m\"\u001b[39m, \u001b[38;5;124m\"\u001b[39m\u001b[38;5;124mindex\u001b[39m\u001b[38;5;124m\"\u001b[39m, \u001b[38;5;124m\"\u001b[39m\u001b[38;5;124mid\u001b[39m\u001b[38;5;124m\"\u001b[39m])\n",
      "Cell \u001b[1;32mIn[36], line 48\u001b[0m, in \u001b[0;36m<listcomp>\u001b[1;34m(.0)\u001b[0m\n\u001b[0;32m     45\u001b[0m label_list \u001b[38;5;241m=\u001b[39m \u001b[38;5;28mlist\u001b[39m(tag_to_id\u001b[38;5;241m.\u001b[39mkeys())\n\u001b[0;32m     46\u001b[0m label_mapping \u001b[38;5;241m=\u001b[39m {label: i \u001b[38;5;28;01mfor\u001b[39;00m i, label \u001b[38;5;129;01min\u001b[39;00m \u001b[38;5;28menumerate\u001b[39m(label_list)}\n\u001b[1;32m---> 48\u001b[0m indexed_tags \u001b[38;5;241m=\u001b[39m [[label_mapping[tag] \u001b[38;5;28;01mfor\u001b[39;00m tag \u001b[38;5;129;01min\u001b[39;00m tags] \u001b[38;5;28;01mfor\u001b[39;00m tags \u001b[38;5;129;01min\u001b[39;00m sentence_tags]\n\u001b[0;32m     49\u001b[0m dataset \u001b[38;5;241m=\u001b[39m Dataset\u001b[38;5;241m.\u001b[39mfrom_dict({\u001b[38;5;124m\"\u001b[39m\u001b[38;5;124mtokens\u001b[39m\u001b[38;5;124m\"\u001b[39m: sentences, \u001b[38;5;124m\"\u001b[39m\u001b[38;5;124mner_tags\u001b[39m\u001b[38;5;124m\"\u001b[39m: indexed_tags})\n\u001b[0;32m     50\u001b[0m reference_german \u001b[38;5;241m=\u001b[39m iob2_to_dataset(reference_path[\u001b[38;5;241m0\u001b[39m])\u001b[38;5;241m.\u001b[39mremove_columns([\u001b[38;5;124m\"\u001b[39m\u001b[38;5;124mner_tags_id\u001b[39m\u001b[38;5;124m\"\u001b[39m, \u001b[38;5;124m\"\u001b[39m\u001b[38;5;124mindex\u001b[39m\u001b[38;5;124m\"\u001b[39m, \u001b[38;5;124m\"\u001b[39m\u001b[38;5;124mid\u001b[39m\u001b[38;5;124m\"\u001b[39m])\n",
      "Cell \u001b[1;32mIn[36], line 48\u001b[0m, in \u001b[0;36m<listcomp>\u001b[1;34m(.0)\u001b[0m\n\u001b[0;32m     45\u001b[0m label_list \u001b[38;5;241m=\u001b[39m \u001b[38;5;28mlist\u001b[39m(tag_to_id\u001b[38;5;241m.\u001b[39mkeys())\n\u001b[0;32m     46\u001b[0m label_mapping \u001b[38;5;241m=\u001b[39m {label: i \u001b[38;5;28;01mfor\u001b[39;00m i, label \u001b[38;5;129;01min\u001b[39;00m \u001b[38;5;28menumerate\u001b[39m(label_list)}\n\u001b[1;32m---> 48\u001b[0m indexed_tags \u001b[38;5;241m=\u001b[39m [[\u001b[43mlabel_mapping\u001b[49m\u001b[43m[\u001b[49m\u001b[43mtag\u001b[49m\u001b[43m]\u001b[49m \u001b[38;5;28;01mfor\u001b[39;00m tag \u001b[38;5;129;01min\u001b[39;00m tags] \u001b[38;5;28;01mfor\u001b[39;00m tags \u001b[38;5;129;01min\u001b[39;00m sentence_tags]\n\u001b[0;32m     49\u001b[0m dataset \u001b[38;5;241m=\u001b[39m Dataset\u001b[38;5;241m.\u001b[39mfrom_dict({\u001b[38;5;124m\"\u001b[39m\u001b[38;5;124mtokens\u001b[39m\u001b[38;5;124m\"\u001b[39m: sentences, \u001b[38;5;124m\"\u001b[39m\u001b[38;5;124mner_tags\u001b[39m\u001b[38;5;124m\"\u001b[39m: indexed_tags})\n\u001b[0;32m     50\u001b[0m reference_german \u001b[38;5;241m=\u001b[39m iob2_to_dataset(reference_path[\u001b[38;5;241m0\u001b[39m])\u001b[38;5;241m.\u001b[39mremove_columns([\u001b[38;5;124m\"\u001b[39m\u001b[38;5;124mner_tags_id\u001b[39m\u001b[38;5;124m\"\u001b[39m, \u001b[38;5;124m\"\u001b[39m\u001b[38;5;124mindex\u001b[39m\u001b[38;5;124m\"\u001b[39m, \u001b[38;5;124m\"\u001b[39m\u001b[38;5;124mid\u001b[39m\u001b[38;5;124m\"\u001b[39m])\n",
      "\u001b[1;31mKeyError\u001b[0m: '0'"
     ]
    }
   ],
   "source": [
    "import os\n",
    "import pandas as pd\n",
    "\n",
    "def fine_tune_models_in_folder(folder_path, output_dir):\n",
    "    files = os.listdir(folder_path)\n",
    "    \n",
    "    for file in files:\n",
    "        file_path = os.path.join(folder_path, file)\n",
    "        \n",
    "        de_ds = iob2_to_datasets(file_path, reference_grp_path)\n",
    "        \n",
    "        tokenized_ds = de_ds.map(tokenize_and_align_labels, batched=True)\n",
    "        \n",
    "        model = AutoModelForTokenClassification.from_pretrained(\n",
    "            model_id, num_labels=len(label_names)\n",
    "        )\n",
    "        \n",
    "        trainer = Trainer(\n",
    "            model=model,\n",
    "            args=args,\n",
    "            train_dataset=tokenized_ds[\"train\"],\n",
    "            eval_dataset=tokenized_ds[\"val_fr\"],\n",
    "            compute_metrics=compute_metrics,\n",
    "\n",
    "        )\n",
    "\n",
    "        trainer.predict(tokenized_ds[\"val_fr\"])\n",
    "        \n",
    "\n",
    "folder_path = '../data/TaggedSeparated/French'\n",
    "output_dir = '../Models/m_fr'\n",
    "\n",
    "fine_tune_models_in_folder(folder_path, output_dir)\n"
   ]
  },
  {
   "cell_type": "code",
   "execution_count": null,
   "metadata": {},
   "outputs": [],
   "source": []
  }
 ],
 "metadata": {
  "kernelspec": {
   "display_name": "Python 3 (ipykernel)",
   "language": "python",
   "name": "python3"
  },
  "language_info": {
   "codemirror_mode": {
    "name": "ipython",
    "version": 3
   },
   "file_extension": ".py",
   "mimetype": "text/x-python",
   "name": "python",
   "nbconvert_exporter": "python",
   "pygments_lexer": "ipython3",
   "version": "3.9.16"
  }
 },
 "nbformat": 4,
 "nbformat_minor": 2
}
